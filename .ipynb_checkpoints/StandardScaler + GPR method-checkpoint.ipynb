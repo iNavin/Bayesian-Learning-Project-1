{
 "cells": [
  {
   "cell_type": "code",
   "execution_count": null,
   "id": "44c597cc",
   "metadata": {},
   "outputs": [],
   "source": [
    "import pandas as pd\n",
    "import numpy as np\n",
    "import GPy\n",
    "from sklearn.model_selection import train_test_split\n",
    "from sklearn.preprocessing import StandardScaler\n",
    "\n",
    "# Load the data\n",
    "data = pd.read_csv('sensor_data.csv')\n",
    "\n",
    "# Impute the missing values using mean imputation\n",
    "data['temperature'].fillna(data['temperature'].mean(), inplace=True)\n",
    "data['humidity'].fillna(data['humidity'].mean(), inplace=True)\n",
    "\n",
    "# Split the data into training and testing sets\n",
    "train_data, test_data = train_test_split(data, test_size=0.2, random_state=42)\n",
    "\n",
    "# Scale and normalize the features\n",
    "scaler = StandardScaler()\n",
    "train_features = scaler.fit_transform(train_data[['temperature', 'humidity']])\n",
    "train_labels = np.array(train_data[['temperature', 'humidity']])\n",
    "\n",
    "test_features = scaler.transform(test_data[['temperature', 'humidity']])\n",
    "test_labels = np.array(test_data[['temperature', 'humidity']])\n",
    "\n",
    "# Define the GPR model\n",
    "kernel = GPy.kern.RBF(input_dim=2, variance=1., lengthscale=1.)\n",
    "gpr_model = GPy.models.GPRegression(train_features, train_labels, kernel)\n",
    "\n",
    "# Train the GPR model\n",
    "gpr_model.optimize()\n",
    "\n",
    "# Evaluate the GPR model\n",
    "rmse = np.sqrt(np.mean((test_labels - gpr_model.predict(test_features)[0])**2))\n",
    "print(\"RMSE:\", rmse)\n",
    "\n",
    "# Impute the missing values using the GPR model\n",
    "missing_data = data.loc[data['temperature'].isnull() | data['humidity'].isnull()]\n",
    "missing_data['temperature'].fillna(missing_data['temperature'].mean(), inplace=True)\n",
    "missing_data['humidity'].fillna(missing_data['humidity'].mean(), inplace=True)\n",
    "\n",
    "missing_features = scaler.transform(missing_data[['temperature', 'humidity']])\n",
    "imputed_labels = gpr_model.predict(missing_features)[0]\n",
    "missing_data[['temperature', 'humidity']] = imputed_labels\n",
    "\n",
    "# Merge the imputed data back into the original data frame\n",
    "data.update(missing_data)\n",
    "\n",
    "# Show the first few rows of the imputed data\n",
    "print(data.head())\n"
   ]
  },
  {
   "cell_type": "code",
   "execution_count": null,
   "id": "b2a63339",
   "metadata": {},
   "outputs": [],
   "source": []
  }
 ],
 "metadata": {
  "kernelspec": {
   "display_name": "Python 3 (ipykernel)",
   "language": "python",
   "name": "python3"
  },
  "language_info": {
   "codemirror_mode": {
    "name": "ipython",
    "version": 3
   },
   "file_extension": ".py",
   "mimetype": "text/x-python",
   "name": "python",
   "nbconvert_exporter": "python",
   "pygments_lexer": "ipython3",
   "version": "3.9.13"
  }
 },
 "nbformat": 4,
 "nbformat_minor": 5
}
