{
 "cells": [
  {
   "cell_type": "code",
   "execution_count": 65,
   "id": "e3e1897a",
   "metadata": {},
   "outputs": [],
   "source": [
    "import pandas as pd\n",
    "import numpy as np\n",
    "from sklearn.model_selection import train_test_split\n",
    "from sklearn.gaussian_process import GaussianProcessRegressor\n",
    "from sklearn.gaussian_process.kernels import RBF, WhiteKernel, ConstantKernel"
   ]
  },
  {
   "cell_type": "code",
   "execution_count": 2,
   "id": "c1f83886",
   "metadata": {},
   "outputs": [],
   "source": [
    "# Load data\n",
    "data = pd.read_csv('sensor_data.csv')"
   ]
  },
  {
   "cell_type": "code",
   "execution_count": 55,
   "id": "8abb1b93",
   "metadata": {},
   "outputs": [
    {
     "data": {
      "text/plain": [
       "ID             6583\n",
       "timestamp      6583\n",
       "latitude       6583\n",
       "longitude      6583\n",
       "temperature    6345\n",
       "humidity       6321\n",
       "dtype: int64"
      ]
     },
     "execution_count": 55,
     "metadata": {},
     "output_type": "execute_result"
    }
   ],
   "source": [
    "data.count()"
   ]
  },
  {
   "cell_type": "code",
   "execution_count": 12,
   "id": "c0620615",
   "metadata": {},
   "outputs": [],
   "source": [
    "#preparing data for temperature mode\n",
    "temp_data = data.copy()\n",
    "temp_data.dropna(subset=['temperature'],inplace = True)\n",
    "temp_data.interpolate(inplace=True)"
   ]
  },
  {
   "cell_type": "code",
   "execution_count": 13,
   "id": "569e44cd",
   "metadata": {},
   "outputs": [
    {
     "data": {
      "text/plain": [
       "ID             6345\n",
       "timestamp      6345\n",
       "latitude       6345\n",
       "longitude      6345\n",
       "temperature    6345\n",
       "humidity       6345\n",
       "dtype: int64"
      ]
     },
     "execution_count": 13,
     "metadata": {},
     "output_type": "execute_result"
    }
   ],
   "source": [
    "temp_data.count()"
   ]
  },
  {
   "cell_type": "code",
   "execution_count": 18,
   "id": "113aa820",
   "metadata": {},
   "outputs": [],
   "source": [
    "train_temp, test_temp = train_test_split(temp_data, test_size=0.2, random_state=42)"
   ]
  },
  {
   "cell_type": "code",
   "execution_count": 19,
   "id": "18434a6f",
   "metadata": {},
   "outputs": [
    {
     "data": {
      "text/plain": [
       "ID             5076\n",
       "timestamp      5076\n",
       "latitude       5076\n",
       "longitude      5076\n",
       "temperature    5076\n",
       "humidity       5076\n",
       "dtype: int64"
      ]
     },
     "execution_count": 19,
     "metadata": {},
     "output_type": "execute_result"
    }
   ],
   "source": [
    "train_temp.count()"
   ]
  },
  {
   "cell_type": "code",
   "execution_count": 21,
   "id": "ec068643",
   "metadata": {},
   "outputs": [
    {
     "data": {
      "text/plain": [
       "ID             1269\n",
       "timestamp      1269\n",
       "latitude       1269\n",
       "longitude      1269\n",
       "temperature    1269\n",
       "humidity       1269\n",
       "dtype: int64"
      ]
     },
     "execution_count": 21,
     "metadata": {},
     "output_type": "execute_result"
    }
   ],
   "source": [
    "test_temp.count()"
   ]
  },
  {
   "cell_type": "code",
   "execution_count": 23,
   "id": "e39212d4",
   "metadata": {},
   "outputs": [],
   "source": [
    "train_X_temp = train_temp[['latitude', 'longitude', 'humidity', 'timestamp']]\n",
    "train_y_temp = train_temp['temperature']"
   ]
  },
  {
   "cell_type": "code",
   "execution_count": 25,
   "id": "25dbfabf",
   "metadata": {},
   "outputs": [],
   "source": [
    "test_X_temp = test_temp[['latitude', 'longitude', 'humidity', 'timestamp']]\n",
    "test_y_temp = test_temp['temperature']"
   ]
  },
  {
   "cell_type": "code",
   "execution_count": 22,
   "id": "4a626d8e",
   "metadata": {},
   "outputs": [],
   "source": [
    "# Define kernel functions\n",
    "kernel_humid = ConstantKernel(1.0) * RBF(length_scale=1.0) + WhiteKernel(noise_level=1.0)"
   ]
  },
  {
   "cell_type": "code",
   "execution_count": 24,
   "id": "6eeb39bc",
   "metadata": {},
   "outputs": [
    {
     "name": "stderr",
     "output_type": "stream",
     "text": [
      "/Users/inavin/opt/anaconda3/lib/python3.9/site-packages/sklearn/gaussian_process/kernels.py:430: ConvergenceWarning: The optimal value found for dimension 0 of parameter k1__length_scale is close to the specified upper bound 100000.0. Increasing the bound and calling fit again may find a better value.\n",
      "  warnings.warn(\n"
     ]
    },
    {
     "data": {
      "text/plain": [
       "GaussianProcessRegressor(kernel=RBF(length_scale=1) + WhiteKernel(noise_level=1))"
      ]
     },
     "execution_count": 24,
     "metadata": {},
     "output_type": "execute_result"
    }
   ],
   "source": [
    "model_temp = GaussianProcessRegressor(kernel=kernel)\n",
    "model_temp.fit(train_X_temp, train_y_temp)"
   ]
  },
  {
   "cell_type": "code",
   "execution_count": 26,
   "id": "87768962",
   "metadata": {},
   "outputs": [],
   "source": [
    "pred_y_temp = model_temp.predict(test_X_temp)"
   ]
  },
  {
   "cell_type": "code",
   "execution_count": 28,
   "id": "aa1bdaca",
   "metadata": {},
   "outputs": [
    {
     "data": {
      "text/plain": [
       "array([21.66957924, 21.27573834, 17.29003768, ..., 16.53932526,\n",
       "       18.05541033, 17.97428443])"
      ]
     },
     "execution_count": 28,
     "metadata": {},
     "output_type": "execute_result"
    }
   ],
   "source": [
    "pred_y_temp"
   ]
  },
  {
   "cell_type": "code",
   "execution_count": 31,
   "id": "74f78480",
   "metadata": {},
   "outputs": [
    {
     "name": "stdout",
     "output_type": "stream",
     "text": [
      "Test RMSE for temperature: 3.85\n"
     ]
    }
   ],
   "source": [
    "# Evaluate model on test data\n",
    "test_rmse_temp = ((test_y_temp - pred_y_temp)**2).mean()**0.5\n",
    "#test_rmse_humid = ((test_data['humidity'] - imputed_data['humidity'])**2).mean()**0.5\n"
   ]
  },
  {
   "cell_type": "code",
   "execution_count": 56,
   "id": "403b8692",
   "metadata": {},
   "outputs": [],
   "source": [
    "#preparing data for temperature mode\n",
    "humid_data = data.copy()\n",
    "humid_data.dropna(subset=['humidity'],inplace = True)\n",
    "humid_data.interpolate(inplace=True)"
   ]
  },
  {
   "cell_type": "code",
   "execution_count": 57,
   "id": "f7435ea5",
   "metadata": {},
   "outputs": [
    {
     "data": {
      "text/plain": [
       "ID             6321\n",
       "timestamp      6321\n",
       "latitude       6321\n",
       "longitude      6321\n",
       "temperature    6321\n",
       "humidity       6321\n",
       "dtype: int64"
      ]
     },
     "execution_count": 57,
     "metadata": {},
     "output_type": "execute_result"
    }
   ],
   "source": [
    "humid_data.count()"
   ]
  },
  {
   "cell_type": "code",
   "execution_count": 58,
   "id": "1e7bbdb9",
   "metadata": {},
   "outputs": [],
   "source": [
    "train_humid, test_humid = train_test_split(humid_data, test_size=0.2, random_state=42)"
   ]
  },
  {
   "cell_type": "code",
   "execution_count": 59,
   "id": "bf8fe078",
   "metadata": {},
   "outputs": [
    {
     "data": {
      "text/plain": [
       "ID             5056\n",
       "timestamp      5056\n",
       "latitude       5056\n",
       "longitude      5056\n",
       "temperature    5056\n",
       "humidity       5056\n",
       "dtype: int64"
      ]
     },
     "execution_count": 59,
     "metadata": {},
     "output_type": "execute_result"
    }
   ],
   "source": [
    "train_humid.count()"
   ]
  },
  {
   "cell_type": "code",
   "execution_count": 60,
   "id": "1b2decf9",
   "metadata": {},
   "outputs": [
    {
     "data": {
      "text/plain": [
       "ID             1265\n",
       "timestamp      1265\n",
       "latitude       1265\n",
       "longitude      1265\n",
       "temperature    1265\n",
       "humidity       1265\n",
       "dtype: int64"
      ]
     },
     "execution_count": 60,
     "metadata": {},
     "output_type": "execute_result"
    }
   ],
   "source": [
    "test_humid.count()"
   ]
  },
  {
   "cell_type": "code",
   "execution_count": 61,
   "id": "1946c0ab",
   "metadata": {},
   "outputs": [],
   "source": [
    "train_X_humid = train_humid[['latitude', 'longitude', 'temperature', 'timestamp']]\n",
    "train_y_humid = train_humid['humidity']"
   ]
  },
  {
   "cell_type": "code",
   "execution_count": 62,
   "id": "3f9947c3",
   "metadata": {},
   "outputs": [],
   "source": [
    "test_X_humid = test_humid[['latitude', 'longitude', 'temperature', 'timestamp']]\n",
    "test_y_humid = test_humid['humidity']"
   ]
  },
  {
   "cell_type": "code",
   "execution_count": 66,
   "id": "3b459f53",
   "metadata": {},
   "outputs": [],
   "source": [
    "# Define kernel functions\n",
    "kernel_humid = ConstantKernel(1.0) * RBF(length_scale=1.0) + WhiteKernel(noise_level=1.0)\n"
   ]
  },
  {
   "cell_type": "code",
   "execution_count": 67,
   "id": "6ea55419",
   "metadata": {},
   "outputs": [
    {
     "data": {
      "text/plain": [
       "GaussianProcessRegressor(kernel=1**2 * RBF(length_scale=1) + WhiteKernel(noise_level=1))"
      ]
     },
     "execution_count": 67,
     "metadata": {},
     "output_type": "execute_result"
    }
   ],
   "source": [
    "model_humid = GaussianProcessRegressor(kernel=kernel_humid)\n",
    "model_humid.fit(train_X_humid, train_y_humid)"
   ]
  },
  {
   "cell_type": "code",
   "execution_count": 68,
   "id": "1fa64b26",
   "metadata": {},
   "outputs": [],
   "source": [
    "pred_y_humid = model_humid.predict(test_X_humid)"
   ]
  },
  {
   "cell_type": "code",
   "execution_count": 69,
   "id": "d58b7540",
   "metadata": {},
   "outputs": [],
   "source": [
    "test_rmse_temp = ((test_y_humid - pred_y_humid)**2).mean()**0.5"
   ]
  },
  {
   "cell_type": "code",
   "execution_count": 70,
   "id": "187f305d",
   "metadata": {},
   "outputs": [
    {
     "name": "stdout",
     "output_type": "stream",
     "text": [
      "4.269382978090558\n"
     ]
    }
   ],
   "source": [
    "print(test_rmse_temp)"
   ]
  }
 ],
 "metadata": {
  "kernelspec": {
   "display_name": "Python 3 (ipykernel)",
   "language": "python",
   "name": "python3"
  },
  "language_info": {
   "codemirror_mode": {
    "name": "ipython",
    "version": 3
   },
   "file_extension": ".py",
   "mimetype": "text/x-python",
   "name": "python",
   "nbconvert_exporter": "python",
   "pygments_lexer": "ipython3",
   "version": "3.9.13"
  }
 },
 "nbformat": 4,
 "nbformat_minor": 5
}
