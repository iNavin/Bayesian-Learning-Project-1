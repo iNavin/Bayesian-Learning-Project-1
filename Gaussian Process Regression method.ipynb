{
 "cells": [
  {
   "cell_type": "code",
   "execution_count": 2,
   "id": "6caf587b",
   "metadata": {},
   "outputs": [],
   "source": [
    "import pandas as pd\n",
    "import numpy as np\n",
    "from sklearn.model_selection import train_test_split\n",
    "from sklearn.gaussian_process import GaussianProcessRegressor\n",
    "from sklearn.gaussian_process.kernels import RBF, WhiteKernel, ConstantKernel"
   ]
  },
  {
   "cell_type": "code",
   "execution_count": 3,
   "id": "a8cfefb1",
   "metadata": {},
   "outputs": [],
   "source": [
    "# Load data\n",
    "data = pd.read_csv('sensor_data.csv')"
   ]
  },
  {
   "cell_type": "code",
   "execution_count": 4,
   "id": "c5df0b6b",
   "metadata": {},
   "outputs": [
    {
     "data": {
      "text/plain": [
       "ID             6583\n",
       "timestamp      6583\n",
       "latitude       6583\n",
       "longitude      6583\n",
       "temperature    6345\n",
       "humidity       6321\n",
       "dtype: int64"
      ]
     },
     "execution_count": 4,
     "metadata": {},
     "output_type": "execute_result"
    }
   ],
   "source": [
    "data.count()"
   ]
  },
  {
   "cell_type": "code",
   "execution_count": 5,
   "id": "2daef3e8",
   "metadata": {},
   "outputs": [],
   "source": [
    "#preparing data for temperature mode\n",
    "temp_data = data.copy()\n",
    "temp_data.dropna(subset=['temperature'],inplace = True)"
   ]
  },
  {
   "cell_type": "code",
   "execution_count": 6,
   "id": "14b6275c",
   "metadata": {},
   "outputs": [
    {
     "data": {
      "text/plain": [
       "0"
      ]
     },
     "execution_count": 6,
     "metadata": {},
     "output_type": "execute_result"
    }
   ],
   "source": [
    "temp_data.loc[temp_data['temperature']<0,'temperature'].count()"
   ]
  },
  {
   "cell_type": "code",
   "execution_count": 7,
   "id": "4f188276",
   "metadata": {},
   "outputs": [],
   "source": [
    "temp_data.interpolate(inplace=True)"
   ]
  },
  {
   "cell_type": "code",
   "execution_count": 8,
   "id": "032b649c",
   "metadata": {},
   "outputs": [
    {
     "data": {
      "text/plain": [
       "ID             6345\n",
       "timestamp      6345\n",
       "latitude       6345\n",
       "longitude      6345\n",
       "temperature    6345\n",
       "humidity       6345\n",
       "dtype: int64"
      ]
     },
     "execution_count": 8,
     "metadata": {},
     "output_type": "execute_result"
    }
   ],
   "source": [
    "temp_data.count()"
   ]
  },
  {
   "cell_type": "code",
   "execution_count": 9,
   "id": "3d7dc1ba",
   "metadata": {},
   "outputs": [],
   "source": [
    "train_temp, test_temp = train_test_split(temp_data, test_size=0.2, random_state=42)"
   ]
  },
  {
   "cell_type": "code",
   "execution_count": 10,
   "id": "e886b231",
   "metadata": {},
   "outputs": [
    {
     "data": {
      "text/plain": [
       "ID             5076\n",
       "timestamp      5076\n",
       "latitude       5076\n",
       "longitude      5076\n",
       "temperature    5076\n",
       "humidity       5076\n",
       "dtype: int64"
      ]
     },
     "execution_count": 10,
     "metadata": {},
     "output_type": "execute_result"
    }
   ],
   "source": [
    "train_temp.count()"
   ]
  },
  {
   "cell_type": "code",
   "execution_count": 11,
   "id": "e55fe7c2",
   "metadata": {},
   "outputs": [
    {
     "data": {
      "text/plain": [
       "ID             1269\n",
       "timestamp      1269\n",
       "latitude       1269\n",
       "longitude      1269\n",
       "temperature    1269\n",
       "humidity       1269\n",
       "dtype: int64"
      ]
     },
     "execution_count": 11,
     "metadata": {},
     "output_type": "execute_result"
    }
   ],
   "source": [
    "test_temp.count()"
   ]
  },
  {
   "cell_type": "code",
   "execution_count": 12,
   "id": "ab9d9649",
   "metadata": {},
   "outputs": [],
   "source": [
    "train_X_temp = train_temp[['latitude', 'longitude', 'humidity', 'timestamp']]\n",
    "train_y_temp = train_temp['temperature']"
   ]
  },
  {
   "cell_type": "code",
   "execution_count": 13,
   "id": "3cf3ec2d",
   "metadata": {},
   "outputs": [],
   "source": [
    "test_X_temp = test_temp[['latitude', 'longitude', 'humidity', 'timestamp']]\n",
    "test_y_temp = test_temp['temperature']"
   ]
  },
  {
   "cell_type": "code",
   "execution_count": 86,
   "id": "a63374b4",
   "metadata": {},
   "outputs": [],
   "source": [
    "data_X_temp = temp_data[['latitude', 'longitude', 'humidity', 'timestamp']]\n",
    "data_y_temp = temp_data['temperature']"
   ]
  },
  {
   "cell_type": "code",
   "execution_count": 87,
   "id": "00849ea0",
   "metadata": {},
   "outputs": [
    {
     "data": {
      "text/plain": [
       "latitude     6345\n",
       "longitude    6345\n",
       "humidity     6345\n",
       "timestamp    6345\n",
       "dtype: int64"
      ]
     },
     "execution_count": 87,
     "metadata": {},
     "output_type": "execute_result"
    }
   ],
   "source": [
    "data_X_temp.count()"
   ]
  },
  {
   "cell_type": "code",
   "execution_count": 14,
   "id": "daa4981f",
   "metadata": {},
   "outputs": [],
   "source": [
    "# Define kernel functions\n",
    "kernel_temp = ConstantKernel(1.0) * RBF(length_scale=1.0) + WhiteKernel(noise_level=1.0)"
   ]
  },
  {
   "cell_type": "code",
   "execution_count": 15,
   "id": "33045444",
   "metadata": {},
   "outputs": [
    {
     "name": "stderr",
     "output_type": "stream",
     "text": [
      "/Users/inavin/opt/anaconda3/lib/python3.9/site-packages/sklearn/gaussian_process/kernels.py:430: ConvergenceWarning: The optimal value found for dimension 0 of parameter k1__k1__constant_value is close to the specified upper bound 100000.0. Increasing the bound and calling fit again may find a better value.\n",
      "  warnings.warn(\n"
     ]
    },
    {
     "data": {
      "text/plain": [
       "GaussianProcessRegressor(kernel=1**2 * RBF(length_scale=1) + WhiteKernel(noise_level=1))"
      ]
     },
     "execution_count": 15,
     "metadata": {},
     "output_type": "execute_result"
    }
   ],
   "source": [
    "model_temp = GaussianProcessRegressor(kernel=kernel_temp)\n",
    "model_temp.fit(train_X_temp, train_y_temp)"
   ]
  },
  {
   "cell_type": "code",
   "execution_count": 88,
   "id": "42407d37",
   "metadata": {},
   "outputs": [],
   "source": [
    "pred_y_temp = model_temp.predict(test_X_temp)"
   ]
  },
  {
   "cell_type": "code",
   "execution_count": 92,
   "id": "e4d50e0e",
   "metadata": {},
   "outputs": [
    {
     "data": {
      "text/plain": [
       "(1269,)"
      ]
     },
     "execution_count": 92,
     "metadata": {},
     "output_type": "execute_result"
    }
   ],
   "source": [
    "pred_y_temp.shape"
   ]
  },
  {
   "cell_type": "code",
   "execution_count": 18,
   "id": "671c4b98",
   "metadata": {},
   "outputs": [
    {
     "name": "stdout",
     "output_type": "stream",
     "text": [
      "0.8378323618098715\n"
     ]
    }
   ],
   "source": [
    "# Evaluate model on test data\n",
    "test_rmse_temp = ((test_y_temp - pred_y_temp)**2).mean()**0.5\n",
    "print(test_rmse_temp)\n"
   ]
  },
  {
   "cell_type": "code",
   "execution_count": 19,
   "id": "3487c9d0",
   "metadata": {},
   "outputs": [],
   "source": [
    "#preparing data for temperature mode\n",
    "humid_data = data.copy()\n",
    "humid_data.dropna(subset=['humidity'],inplace = True)"
   ]
  },
  {
   "cell_type": "code",
   "execution_count": 20,
   "id": "d6a23c66",
   "metadata": {},
   "outputs": [
    {
     "name": "stdout",
     "output_type": "stream",
     "text": [
      "1.781\n"
     ]
    }
   ],
   "source": [
    "humid_mean = humid_data.loc[humid_data['humidity']>0,'humidity'].min()\n",
    "print(humid_mean)\n",
    "humid_data.loc[humid_data['humidity']<0,'humidity'] = humid_mean"
   ]
  },
  {
   "cell_type": "code",
   "execution_count": 21,
   "id": "ce3f09e4",
   "metadata": {},
   "outputs": [],
   "source": [
    "humid_data.interpolate(inplace=True)"
   ]
  },
  {
   "cell_type": "code",
   "execution_count": 22,
   "id": "b1c18419",
   "metadata": {},
   "outputs": [
    {
     "data": {
      "text/plain": [
       "ID             6321\n",
       "timestamp      6321\n",
       "latitude       6321\n",
       "longitude      6321\n",
       "temperature    6321\n",
       "humidity       6321\n",
       "dtype: int64"
      ]
     },
     "execution_count": 22,
     "metadata": {},
     "output_type": "execute_result"
    }
   ],
   "source": [
    "humid_data.count()"
   ]
  },
  {
   "cell_type": "code",
   "execution_count": 23,
   "id": "6efe0ccc",
   "metadata": {},
   "outputs": [],
   "source": [
    "train_humid, test_humid = train_test_split(humid_data, test_size=0.2, random_state=42)"
   ]
  },
  {
   "cell_type": "code",
   "execution_count": 24,
   "id": "2cf42271",
   "metadata": {},
   "outputs": [
    {
     "data": {
      "text/plain": [
       "ID             5056\n",
       "timestamp      5056\n",
       "latitude       5056\n",
       "longitude      5056\n",
       "temperature    5056\n",
       "humidity       5056\n",
       "dtype: int64"
      ]
     },
     "execution_count": 24,
     "metadata": {},
     "output_type": "execute_result"
    }
   ],
   "source": [
    "train_humid.count()"
   ]
  },
  {
   "cell_type": "code",
   "execution_count": 25,
   "id": "7a1abf54",
   "metadata": {},
   "outputs": [
    {
     "data": {
      "text/plain": [
       "ID             1265\n",
       "timestamp      1265\n",
       "latitude       1265\n",
       "longitude      1265\n",
       "temperature    1265\n",
       "humidity       1265\n",
       "dtype: int64"
      ]
     },
     "execution_count": 25,
     "metadata": {},
     "output_type": "execute_result"
    }
   ],
   "source": [
    "test_humid.count()"
   ]
  },
  {
   "cell_type": "code",
   "execution_count": 26,
   "id": "b1ed5bcc",
   "metadata": {},
   "outputs": [],
   "source": [
    "train_X_humid = train_humid[['latitude', 'longitude', 'temperature', 'timestamp']]\n",
    "train_y_humid = train_humid['humidity']"
   ]
  },
  {
   "cell_type": "code",
   "execution_count": 27,
   "id": "203036f4",
   "metadata": {},
   "outputs": [],
   "source": [
    "test_X_humid = test_humid[['latitude', 'longitude', 'temperature', 'timestamp']]\n",
    "test_y_humid = test_humid['humidity']"
   ]
  },
  {
   "cell_type": "code",
   "execution_count": 28,
   "id": "3f7efb4b",
   "metadata": {},
   "outputs": [],
   "source": [
    "# Define kernel functions\n",
    "kernel_humid = ConstantKernel(1.0) * RBF(length_scale=1.0) + WhiteKernel(noise_level=1.0)\n",
    "\n",
    "#kernel_humid = RBF(length_scale=1.0, length_scale_bounds=(1e-2, 1e5)) + WhiteKernel(noise_level=1.0, noise_level_bounds=(1e-10, 1e+1))\n",
    "\n"
   ]
  },
  {
   "cell_type": "code",
   "execution_count": 29,
   "id": "c020ac23",
   "metadata": {},
   "outputs": [
    {
     "data": {
      "text/plain": [
       "GaussianProcessRegressor(kernel=1**2 * RBF(length_scale=1) + WhiteKernel(noise_level=1))"
      ]
     },
     "execution_count": 29,
     "metadata": {},
     "output_type": "execute_result"
    }
   ],
   "source": [
    "model_humid = GaussianProcessRegressor(kernel=kernel_humid)\n",
    "model_humid.fit(train_X_humid, train_y_humid)"
   ]
  },
  {
   "cell_type": "code",
   "execution_count": 30,
   "id": "d07cfc3e",
   "metadata": {},
   "outputs": [],
   "source": [
    "pred_y_humid = model_humid.predict(test_X_humid)"
   ]
  },
  {
   "cell_type": "code",
   "execution_count": 31,
   "id": "4aa89dd6",
   "metadata": {},
   "outputs": [],
   "source": [
    "test_rmse_temp = ((test_y_humid - pred_y_humid)**2).mean()**0.5"
   ]
  },
  {
   "cell_type": "code",
   "execution_count": 32,
   "id": "a56a4fa4",
   "metadata": {},
   "outputs": [
    {
     "name": "stdout",
     "output_type": "stream",
     "text": [
      "3.749135424039154\n"
     ]
    }
   ],
   "source": [
    "print(test_rmse_temp)"
   ]
  },
  {
   "cell_type": "code",
   "execution_count": 33,
   "id": "0aaafca7",
   "metadata": {},
   "outputs": [
    {
     "data": {
      "image/png": "[encoded data removed]",
      "text/plain": [
       "<Figure size 640x480 with 1 Axes>"
      ]
     },
     "metadata": {},
     "output_type": "display_data"
    }
   ],
   "source": [
    "import matplotlib.pyplot as plt\n",
    "\n",
    "\n",
    "# Plot a histogram of the humidity values\n",
    "plt.hist(humid_data['humidity'], bins=20)\n",
    "plt.xlabel('Humidity')\n",
    "plt.ylabel('Frequency')\n",
    "plt.show()\n"
   ]
  },
  {
   "cell_type": "code",
   "execution_count": 34,
   "id": "f07232a5",
   "metadata": {},
   "outputs": [
    {
     "data": {
      "image/png": "[encoded data removed]",
      "text/plain": [
       "<Figure size 640x480 with 1 Axes>"
      ]
     },
     "metadata": {},
     "output_type": "display_data"
    }
   ],
   "source": [
    "import matplotlib.pyplot as plt\n",
    "\n",
    "\n",
    "# Plot a histogram of the humidity values\n",
    "plt.hist(temp_data['temperature'], bins=20)\n",
    "plt.xlabel('temperature')\n",
    "plt.ylabel('Frequency')\n",
    "plt.show()\n"
   ]
  },
  {
   "cell_type": "code",
   "execution_count": 61,
   "id": "138b94f6",
   "metadata": {},
   "outputs": [],
   "source": [
    "# final prediction for submission\n",
    "pred_data = data.copy()\n",
    "pred_data = pred_data[pred_data['temperature'].isna() | pred_data['humidity'].isna()]"
   ]
  },
  {
   "cell_type": "code",
   "execution_count": 62,
   "id": "32cc984f",
   "metadata": {},
   "outputs": [
    {
     "data": {
      "text/plain": [
       "ID             500\n",
       "timestamp      500\n",
       "latitude       500\n",
       "longitude      500\n",
       "temperature    262\n",
       "humidity       238\n",
       "dtype: int64"
      ]
     },
     "execution_count": 62,
     "metadata": {},
     "output_type": "execute_result"
    }
   ],
   "source": [
    "pred_data.count()"
   ]
  },
  {
   "cell_type": "code",
   "execution_count": 64,
   "id": "7b09da0c",
   "metadata": {},
   "outputs": [],
   "source": [
    "pred_temp = pred_data[pred_data['temperature'].isna()]"
   ]
  },
  {
   "cell_type": "code",
   "execution_count": 65,
   "id": "5a33e7b7",
   "metadata": {},
   "outputs": [
    {
     "data": {
      "text/plain": [
       "ID             238\n",
       "timestamp      238\n",
       "latitude       238\n",
       "longitude      238\n",
       "temperature      0\n",
       "humidity       238\n",
       "dtype: int64"
      ]
     },
     "execution_count": 65,
     "metadata": {},
     "output_type": "execute_result"
    }
   ],
   "source": [
    "pred_temp.count()"
   ]
  },
  {
   "cell_type": "code",
   "execution_count": 67,
   "id": "46050d92",
   "metadata": {},
   "outputs": [],
   "source": [
    "pred_humid = pred_data[pred_data['humidity'].isna()]"
   ]
  },
  {
   "cell_type": "code",
   "execution_count": 68,
   "id": "dffefefc",
   "metadata": {},
   "outputs": [
    {
     "data": {
      "text/plain": [
       "ID             262\n",
       "timestamp      262\n",
       "latitude       262\n",
       "longitude      262\n",
       "temperature    262\n",
       "humidity         0\n",
       "dtype: int64"
      ]
     },
     "execution_count": 68,
     "metadata": {},
     "output_type": "execute_result"
    }
   ],
   "source": [
    "pred_humid.count()"
   ]
  },
  {
   "cell_type": "code",
   "execution_count": 69,
   "id": "184adb18",
   "metadata": {},
   "outputs": [
    {
     "name": "stderr",
     "output_type": "stream",
     "text": [
      "/var/folders/8d/ftv5hsns5r3gsjsltnwk_ysr0000gn/T/ipykernel_1205/2738498298.py:1: SettingWithCopyWarning: \n",
      "A value is trying to be set on a copy of a slice from a DataFrame\n",
      "\n",
      "See the caveats in the documentation: https://pandas.pydata.org/pandas-docs/stable/user_guide/indexing.html#returning-a-view-versus-a-copy\n",
      "  pred_temp.drop(['temperature'], axis=1,inplace=True)\n",
      "/var/folders/8d/ftv5hsns5r3gsjsltnwk_ysr0000gn/T/ipykernel_1205/2738498298.py:2: SettingWithCopyWarning: \n",
      "A value is trying to be set on a copy of a slice from a DataFrame\n",
      "\n",
      "See the caveats in the documentation: https://pandas.pydata.org/pandas-docs/stable/user_guide/indexing.html#returning-a-view-versus-a-copy\n",
      "  pred_humid.drop(['humidity'], axis=1,inplace=True)\n"
     ]
    }
   ],
   "source": [
    "pred_temp.drop(['temperature'], axis=1,inplace=True)\n",
    "pred_humid.drop(['humidity'], axis=1,inplace=True)"
   ]
  },
  {
   "cell_type": "code",
   "execution_count": 70,
   "id": "db78a425",
   "metadata": {},
   "outputs": [
    {
     "data": {
      "text/plain": [
       "ID           238\n",
       "timestamp    238\n",
       "latitude     238\n",
       "longitude    238\n",
       "humidity     238\n",
       "dtype: int64"
      ]
     },
     "execution_count": 70,
     "metadata": {},
     "output_type": "execute_result"
    }
   ],
   "source": [
    "pred_temp.count()"
   ]
  },
  {
   "cell_type": "code",
   "execution_count": 71,
   "id": "5ad1b82a",
   "metadata": {},
   "outputs": [
    {
     "data": {
      "text/plain": [
       "ID             262\n",
       "timestamp      262\n",
       "latitude       262\n",
       "longitude      262\n",
       "temperature    262\n",
       "dtype: int64"
      ]
     },
     "execution_count": 71,
     "metadata": {},
     "output_type": "execute_result"
    }
   ],
   "source": [
    "pred_humid.count()"
   ]
  },
  {
   "cell_type": "code",
   "execution_count": 72,
   "id": "191e0aa3",
   "metadata": {},
   "outputs": [
    {
     "name": "stderr",
     "output_type": "stream",
     "text": [
      "/var/folders/8d/ftv5hsns5r3gsjsltnwk_ysr0000gn/T/ipykernel_1205/749807790.py:1: SettingWithCopyWarning: \n",
      "A value is trying to be set on a copy of a slice from a DataFrame.\n",
      "Try using .loc[row_indexer,col_indexer] = value instead\n",
      "\n",
      "See the caveats in the documentation: https://pandas.pydata.org/pandas-docs/stable/user_guide/indexing.html#returning-a-view-versus-a-copy\n",
      "  pred_temp['prediction'] = model_temp.predict(pred_temp[['latitude', 'longitude', 'humidity', 'timestamp']])\n"
     ]
    }
   ],
   "source": [
    "pred_temp['prediction'] = model_temp.predict(pred_temp[['latitude', 'longitude', 'humidity', 'timestamp']])\n"
   ]
  },
  {
   "cell_type": "code",
   "execution_count": 73,
   "id": "4e389884",
   "metadata": {},
   "outputs": [
    {
     "data": {
      "text/plain": [
       "ID            238\n",
       "timestamp     238\n",
       "latitude      238\n",
       "longitude     238\n",
       "humidity      238\n",
       "prediction    238\n",
       "dtype: int64"
      ]
     },
     "execution_count": 73,
     "metadata": {},
     "output_type": "execute_result"
    }
   ],
   "source": [
    "pred_temp.count()\n"
   ]
  },
  {
   "cell_type": "code",
   "execution_count": 74,
   "id": "3f179f34",
   "metadata": {},
   "outputs": [
    {
     "name": "stderr",
     "output_type": "stream",
     "text": [
      "/Users/inavin/opt/anaconda3/lib/python3.9/site-packages/sklearn/base.py:493: FutureWarning: The feature names should match those that were passed during fit. Starting version 1.2, an error will be raised.\n",
      "Feature names unseen at fit time:\n",
      "- temperature\n",
      "Feature names seen at fit time, yet now missing:\n",
      "- humidity\n",
      "\n",
      "  warnings.warn(message, FutureWarning)\n",
      "/var/folders/8d/ftv5hsns5r3gsjsltnwk_ysr0000gn/T/ipykernel_1205/3721073090.py:1: SettingWithCopyWarning: \n",
      "A value is trying to be set on a copy of a slice from a DataFrame.\n",
      "Try using .loc[row_indexer,col_indexer] = value instead\n",
      "\n",
      "See the caveats in the documentation: https://pandas.pydata.org/pandas-docs/stable/user_guide/indexing.html#returning-a-view-versus-a-copy\n",
      "  pred_humid['prediction'] = model_temp.predict(pred_humid[['latitude', 'longitude', 'temperature', 'timestamp']])\n"
     ]
    }
   ],
   "source": [
    "pred_humid['prediction'] = model_temp.predict(pred_humid[['latitude', 'longitude', 'temperature', 'timestamp']])\n",
    "\n"
   ]
  },
  {
   "cell_type": "code",
   "execution_count": 75,
   "id": "11799aad",
   "metadata": {},
   "outputs": [
    {
     "data": {
      "text/plain": [
       "ID             262\n",
       "timestamp      262\n",
       "latitude       262\n",
       "longitude      262\n",
       "temperature    262\n",
       "prediction     262\n",
       "dtype: int64"
      ]
     },
     "execution_count": 75,
     "metadata": {},
     "output_type": "execute_result"
    }
   ],
   "source": [
    "pred_humid.count()"
   ]
  },
  {
   "cell_type": "code",
   "execution_count": 79,
   "id": "e820c637",
   "metadata": {},
   "outputs": [],
   "source": [
    "submission_df = pd.concat([pred_temp[['ID','prediction']],pred_humid[['ID','prediction']]],axis=0).sort_values('ID')"
   ]
  },
  {
   "cell_type": "code",
   "execution_count": 80,
   "id": "c5ba1b6d",
   "metadata": {},
   "outputs": [
    {
     "data": {
      "text/plain": [
       "ID            500\n",
       "prediction    500\n",
       "dtype: int64"
      ]
     },
     "execution_count": 80,
     "metadata": {},
     "output_type": "execute_result"
    }
   ],
   "source": [
    "submission_df.count()"
   ]
  },
  {
   "cell_type": "code",
   "execution_count": 82,
   "id": "5048be12",
   "metadata": {},
   "outputs": [],
   "source": [
    "submission_df.to_csv('submission_file.csv',index=False)"
   ]
  }
 ],
 "metadata": {
  "kernelspec": {
   "display_name": "Python 3 (ipykernel)",
   "language": "python",
   "name": "python3"
  },
  "language_info": {
   "codemirror_mode": {
    "name": "ipython",
    "version": 3
   },
   "file_extension": ".py",
   "mimetype": "text/x-python",
   "name": "python",
   "nbconvert_exporter": "python",
   "pygments_lexer": "ipython3",
   "version": "3.9.13"
  }
 },
 "nbformat": 4,
 "nbformat_minor": 5
}
