{
 "cells": [
  {
   "cell_type": "code",
   "execution_count": 65,
   "id": "9f2e1679",
   "metadata": {},
   "outputs": [],
   "source": [
    "import pandas as pd\n",
    "import numpy as np\n",
    "from sklearn.model_selection import train_test_split\n",
    "from sklearn.gaussian_process import GaussianProcessRegressor\n",
    "from sklearn.gaussian_process.kernels import RBF, WhiteKernel, ConstantKernel"
   ]
  },
  {
   "cell_type": "code",
   "execution_count": 2,
   "id": "c4bf0091",
   "metadata": {},
   "outputs": [],
   "source": [
    "# Load data\n",
    "data = pd.read_csv('sensor_data.csv')"
   ]
  },
  {
   "cell_type": "code",
   "execution_count": 55,
   "id": "c8459c92",
   "metadata": {},
   "outputs": [
    {
     "data": {
      "text/plain": [
       "ID             6583\n",
       "timestamp      6583\n",
       "latitude       6583\n",
       "longitude      6583\n",
       "temperature    6345\n",
       "humidity       6321\n",
       "dtype: int64"
      ]
     },
     "execution_count": 55,
     "metadata": {},
     "output_type": "execute_result"
    }
   ],
   "source": [
    "data.count()"
   ]
  },
  {
   "cell_type": "code",
   "execution_count": 12,
   "id": "1e57850d",
   "metadata": {},
   "outputs": [],
   "source": [
    "#preparing data for temperature mode\n",
    "temp_data = data.copy()\n",
    "temp_data.dropna(subset=['temperature'],inplace = True)\n",
    "temp_data.interpolate(inplace=True)"
   ]
  },
  {
   "cell_type": "code",
   "execution_count": 13,
   "id": "c1292ceb",
   "metadata": {},
   "outputs": [
    {
     "data": {
      "text/plain": [
       "ID             6345\n",
       "timestamp      6345\n",
       "latitude       6345\n",
       "longitude      6345\n",
       "temperature    6345\n",
       "humidity       6345\n",
       "dtype: int64"
      ]
     },
     "execution_count": 13,
     "metadata": {},
     "output_type": "execute_result"
    }
   ],
   "source": [
    "temp_data.count()"
   ]
  },
  {
   "cell_type": "code",
   "execution_count": 18,
   "id": "08ad63c4",
   "metadata": {},
   "outputs": [],
   "source": [
    "train_temp, test_temp = train_test_split(temp_data, test_size=0.2, random_state=42)"
   ]
  },
  {
   "cell_type": "code",
   "execution_count": 19,
   "id": "a172cd9c",
   "metadata": {},
   "outputs": [
    {
     "data": {
      "text/plain": [
       "ID             5076\n",
       "timestamp      5076\n",
       "latitude       5076\n",
       "longitude      5076\n",
       "temperature    5076\n",
       "humidity       5076\n",
       "dtype: int64"
      ]
     },
     "execution_count": 19,
     "metadata": {},
     "output_type": "execute_result"
    }
   ],
   "source": [
    "train_temp.count()"
   ]
  },
  {
   "cell_type": "code",
   "execution_count": 21,
   "id": "0daa2161",
   "metadata": {},
   "outputs": [
    {
     "data": {
      "text/plain": [
       "ID             1269\n",
       "timestamp      1269\n",
       "latitude       1269\n",
       "longitude      1269\n",
       "temperature    1269\n",
       "humidity       1269\n",
       "dtype: int64"
      ]
     },
     "execution_count": 21,
     "metadata": {},
     "output_type": "execute_result"
    }
   ],
   "source": [
    "test_temp.count()"
   ]
  },
  {
   "cell_type": "code",
   "execution_count": 23,
   "id": "8a94a183",
   "metadata": {},
   "outputs": [],
   "source": [
    "train_X_temp = train_temp[['latitude', 'longitude', 'humidity', 'timestamp']]\n",
    "train_y_temp = train_temp['temperature']"
   ]
  },
  {
   "cell_type": "code",
   "execution_count": 25,
   "id": "fb2f86c7",
   "metadata": {},
   "outputs": [],
   "source": [
    "test_X_temp = test_temp[['latitude', 'longitude', 'humidity', 'timestamp']]\n",
    "test_y_temp = test_temp['temperature']"
   ]
  },
  {
   "cell_type": "code",
   "execution_count": 73,
   "id": "da5a6ba0",
   "metadata": {},
   "outputs": [],
   "source": [
    "# Define kernel functions\n",
    "kernel_temp = ConstantKernel(1.0) * RBF(length_scale=1.0) + WhiteKernel(noise_level=1.0)"
   ]
  },
  {
   "cell_type": "code",
   "execution_count": 74,
   "id": "a11716ad",
   "metadata": {},
   "outputs": [
    {
     "name": "stderr",
     "output_type": "stream",
     "text": [
      "/Users/inavin/opt/anaconda3/lib/python3.9/site-packages/sklearn/gaussian_process/kernels.py:430: ConvergenceWarning: The optimal value found for dimension 0 of parameter k1__k1__constant_value is close to the specified upper bound 100000.0. Increasing the bound and calling fit again may find a better value.\n",
      "  warnings.warn(\n"
     ]
    },
    {
     "data": {
      "text/plain": [
       "GaussianProcessRegressor(kernel=1**2 * RBF(length_scale=1) + WhiteKernel(noise_level=1))"
      ]
     },
     "execution_count": 74,
     "metadata": {},
     "output_type": "execute_result"
    }
   ],
   "source": [
    "model_temp = GaussianProcessRegressor(kernel=kernel_temp)\n",
    "model_temp.fit(train_X_temp, train_y_temp)"
   ]
  },
  {
   "cell_type": "code",
   "execution_count": 75,
   "id": "08a36e33",
   "metadata": {},
   "outputs": [],
   "source": [
    "pred_y_temp = model_temp.predict(test_X_temp)"
   ]
  },
  {
   "cell_type": "code",
   "execution_count": 76,
   "id": "8a678ff4",
   "metadata": {},
   "outputs": [
    {
     "data": {
      "text/plain": [
       "array([28.93691882, 20.25387284, 16.50950939, ..., 22.92377963,\n",
       "       17.28025256, 17.21877995])"
      ]
     },
     "execution_count": 76,
     "metadata": {},
     "output_type": "execute_result"
    }
   ],
   "source": [
    "pred_y_temp"
   ]
  },
  {
   "cell_type": "code",
   "execution_count": 80,
   "id": "a8053dca",
   "metadata": {},
   "outputs": [
    {
     "name": "stdout",
     "output_type": "stream",
     "text": [
      "0.8378323618098715\n"
     ]
    }
   ],
   "source": [
    "# Evaluate model on test data\n",
    "test_rmse_temp = ((test_y_temp - pred_y_temp)**2).mean()**0.5\n",
    "print(test_rmse_temp)\n"
   ]
  },
  {
   "cell_type": "code",
   "execution_count": 56,
   "id": "c36a7e83",
   "metadata": {},
   "outputs": [],
   "source": [
    "#preparing data for temperature mode\n",
    "humid_data = data.copy()\n",
    "humid_data.dropna(subset=['humidity'],inplace = True)\n",
    "humid_data.interpolate(inplace=True)"
   ]
  },
  {
   "cell_type": "code",
   "execution_count": 57,
   "id": "732ad89f",
   "metadata": {},
   "outputs": [
    {
     "data": {
      "text/plain": [
       "ID             6321\n",
       "timestamp      6321\n",
       "latitude       6321\n",
       "longitude      6321\n",
       "temperature    6321\n",
       "humidity       6321\n",
       "dtype: int64"
      ]
     },
     "execution_count": 57,
     "metadata": {},
     "output_type": "execute_result"
    }
   ],
   "source": [
    "humid_data.count()"
   ]
  },
  {
   "cell_type": "code",
   "execution_count": 58,
   "id": "b3a59e5d",
   "metadata": {},
   "outputs": [],
   "source": [
    "train_humid, test_humid = train_test_split(humid_data, test_size=0.2, random_state=42)"
   ]
  },
  {
   "cell_type": "code",
   "execution_count": 59,
   "id": "92c63190",
   "metadata": {},
   "outputs": [
    {
     "data": {
      "text/plain": [
       "ID             5056\n",
       "timestamp      5056\n",
       "latitude       5056\n",
       "longitude      5056\n",
       "temperature    5056\n",
       "humidity       5056\n",
       "dtype: int64"
      ]
     },
     "execution_count": 59,
     "metadata": {},
     "output_type": "execute_result"
    }
   ],
   "source": [
    "train_humid.count()"
   ]
  },
  {
   "cell_type": "code",
   "execution_count": 60,
   "id": "b7cf15bd",
   "metadata": {},
   "outputs": [
    {
     "data": {
      "text/plain": [
       "ID             1265\n",
       "timestamp      1265\n",
       "latitude       1265\n",
       "longitude      1265\n",
       "temperature    1265\n",
       "humidity       1265\n",
       "dtype: int64"
      ]
     },
     "execution_count": 60,
     "metadata": {},
     "output_type": "execute_result"
    }
   ],
   "source": [
    "test_humid.count()"
   ]
  },
  {
   "cell_type": "code",
   "execution_count": 61,
   "id": "4fc653fa",
   "metadata": {},
   "outputs": [],
   "source": [
    "train_X_humid = train_humid[['latitude', 'longitude', 'temperature', 'timestamp']]\n",
    "train_y_humid = train_humid['humidity']"
   ]
  },
  {
   "cell_type": "code",
   "execution_count": 62,
   "id": "de503554",
   "metadata": {},
   "outputs": [],
   "source": [
    "test_X_humid = test_humid[['latitude', 'longitude', 'temperature', 'timestamp']]\n",
    "test_y_humid = test_humid['humidity']"
   ]
  },
  {
   "cell_type": "code",
   "execution_count": 66,
   "id": "1084270e",
   "metadata": {},
   "outputs": [],
   "source": [
    "# Define kernel functions\n",
    "kernel_humid = ConstantKernel(1.0) * RBF(length_scale=1.0) + WhiteKernel(noise_level=1.0)\n"
   ]
  },
  {
   "cell_type": "code",
   "execution_count": 67,
   "id": "97a55575",
   "metadata": {},
   "outputs": [
    {
     "data": {
      "text/plain": [
       "GaussianProcessRegressor(kernel=1**2 * RBF(length_scale=1) + WhiteKernel(noise_level=1))"
      ]
     },
     "execution_count": 67,
     "metadata": {},
     "output_type": "execute_result"
    }
   ],
   "source": [
    "model_humid = GaussianProcessRegressor(kernel=kernel_humid)\n",
    "model_humid.fit(train_X_humid, train_y_humid)"
   ]
  },
  {
   "cell_type": "code",
   "execution_count": 68,
   "id": "16e03168",
   "metadata": {},
   "outputs": [],
   "source": [
    "pred_y_humid = model_humid.predict(test_X_humid)"
   ]
  },
  {
   "cell_type": "code",
   "execution_count": 69,
   "id": "4a00b73f",
   "metadata": {},
   "outputs": [],
   "source": [
    "test_rmse_temp = ((test_y_humid - pred_y_humid)**2).mean()**0.5"
   ]
  },
  {
   "cell_type": "code",
   "execution_count": 70,
   "id": "558fb6a8",
   "metadata": {},
   "outputs": [
    {
     "name": "stdout",
     "output_type": "stream",
     "text": [
      "4.269382978090558\n"
     ]
    }
   ],
   "source": [
    "print(test_rmse_temp)"
   ]
  }
 ],
 "metadata": {
  "kernelspec": {
   "display_name": "Python 3 (ipykernel)",
   "language": "python",
   "name": "python3"
  },
  "language_info": {
   "codemirror_mode": {
    "name": "ipython",
    "version": 3
   },
   "file_extension": ".py",
   "mimetype": "text/x-python",
   "name": "python",
   "nbconvert_exporter": "python",
   "pygments_lexer": "ipython3",
   "version": "3.9.13"
  }
 },
 "nbformat": 4,
 "nbformat_minor": 5
}
