{
 "cells": [
  {
   "cell_type": "code",
   "execution_count": 29,
   "id": "95ffedf5",
   "metadata": {},
   "outputs": [],
   "source": [
    "%matplotlib inline\n",
    "\n",
    "import pandas as pd\n",
    "import numpy as np\n",
    "\n",
    "# Visualization \n",
    "import matplotlib\n",
    "from matplotlib import pyplot as plt\n",
    "import matplotlib.cm as cm\n",
    "import seaborn as sns\n",
    "from IPython.core.pylabtools import figsize\n",
    "from pandas.plotting import register_matplotlib_converters\n",
    "register_matplotlib_converters()\n",
    "\n",
    "# Statistics\n",
    "import scipy\n",
    "from scipy import stats\n",
    "from scipy.stats import percentileofscore\n",
    "\n",
    "# Clustering analysis\n",
    "from sklearn.metrics import silhouette_samples, silhouette_score\n",
    "from sklearn.cluster import AgglomerativeClustering\n",
    "from scipy.cluster.hierarchy import dendrogram, linkage\n",
    "\n",
    "# Linear Regression\n",
    "from sklearn.linear_model import LinearRegression\n",
    "\n",
    "# Split data into training/testing\n",
    "from sklearn.model_selection import train_test_split\n",
    "from sklearn.preprocessing import MinMaxScaler\n",
    "\n",
    "# Metrics\n",
    "from sklearn.metrics import mean_squared_error, mean_absolute_error, median_absolute_error\n",
    "\n",
    "# PyMC3 for Bayesian Inference\n",
    "import pymc3 as pm\n",
    "from pymc3 import traceplot"
   ]
  },
  {
   "cell_type": "code",
   "execution_count": 30,
   "id": "fb169e50",
   "metadata": {},
   "outputs": [],
   "source": [
    "import datetime\n",
    "import time"
   ]
  },
  {
   "cell_type": "code",
   "execution_count": 31,
   "id": "7ea4edb2",
   "metadata": {},
   "outputs": [
    {
     "data": {
      "text/html": [
       "<div>\n",
       "<style scoped>\n",
       "    .dataframe tbody tr th:only-of-type {\n",
       "        vertical-align: middle;\n",
       "    }\n",
       "\n",
       "    .dataframe tbody tr th {\n",
       "        vertical-align: top;\n",
       "    }\n",
       "\n",
       "    .dataframe thead th {\n",
       "        text-align: right;\n",
       "    }\n",
       "</style>\n",
       "<table border=\"1\" class=\"dataframe\">\n",
       "  <thead>\n",
       "    <tr style=\"text-align: right;\">\n",
       "      <th></th>\n",
       "      <th>ID</th>\n",
       "      <th>timestamp</th>\n",
       "      <th>temperature</th>\n",
       "      <th>humidity</th>\n",
       "    </tr>\n",
       "  </thead>\n",
       "  <tbody>\n",
       "    <tr>\n",
       "      <th>0</th>\n",
       "      <td>1</td>\n",
       "      <td>09/12/0014 00:03</td>\n",
       "      <td>25.16</td>\n",
       "      <td>36.47</td>\n",
       "    </tr>\n",
       "    <tr>\n",
       "      <th>1</th>\n",
       "      <td>2</td>\n",
       "      <td>09/12/0014 00:13</td>\n",
       "      <td>24.83</td>\n",
       "      <td>35.52</td>\n",
       "    </tr>\n",
       "    <tr>\n",
       "      <th>2</th>\n",
       "      <td>3</td>\n",
       "      <td>09/12/0014 00:23</td>\n",
       "      <td>24.83</td>\n",
       "      <td>35.68</td>\n",
       "    </tr>\n",
       "    <tr>\n",
       "      <th>3</th>\n",
       "      <td>4</td>\n",
       "      <td>09/12/0014 00:33</td>\n",
       "      <td>24.83</td>\n",
       "      <td>35.84</td>\n",
       "    </tr>\n",
       "    <tr>\n",
       "      <th>4</th>\n",
       "      <td>5</td>\n",
       "      <td>09/12/0014 00:44</td>\n",
       "      <td>24.83</td>\n",
       "      <td>35.99</td>\n",
       "    </tr>\n",
       "  </tbody>\n",
       "</table>\n",
       "</div>"
      ],
      "text/plain": [
       "   ID         timestamp  temperature  humidity\n",
       "0   1  09/12/0014 00:03        25.16     36.47\n",
       "1   2  09/12/0014 00:13        24.83     35.52\n",
       "2   3  09/12/0014 00:23        24.83     35.68\n",
       "3   4  09/12/0014 00:33        24.83     35.84\n",
       "4   5  09/12/0014 00:44        24.83     35.99"
      ]
     },
     "execution_count": 31,
     "metadata": {},
     "output_type": "execute_result"
    }
   ],
   "source": [
    "df501 = pd.read_csv('Data/Node_501.csv', parse_dates=['timestamp'])\n",
    "df501.head()"
   ]
  },
  {
   "cell_type": "code",
   "execution_count": 32,
   "id": "eabbfe15",
   "metadata": {},
   "outputs": [
    {
     "data": {
      "text/html": [
       "<div>\n",
       "<style scoped>\n",
       "    .dataframe tbody tr th:only-of-type {\n",
       "        vertical-align: middle;\n",
       "    }\n",
       "\n",
       "    .dataframe tbody tr th {\n",
       "        vertical-align: top;\n",
       "    }\n",
       "\n",
       "    .dataframe thead th {\n",
       "        text-align: right;\n",
       "    }\n",
       "</style>\n",
       "<table border=\"1\" class=\"dataframe\">\n",
       "  <thead>\n",
       "    <tr style=\"text-align: right;\">\n",
       "      <th></th>\n",
       "      <th>ID</th>\n",
       "      <th>timestamp</th>\n",
       "      <th>latitude</th>\n",
       "      <th>longitude</th>\n",
       "      <th>temperature</th>\n",
       "      <th>humidity</th>\n",
       "    </tr>\n",
       "  </thead>\n",
       "  <tbody>\n",
       "    <tr>\n",
       "      <th>0</th>\n",
       "      <td>1</td>\n",
       "      <td>09/12/0014 00:03</td>\n",
       "      <td>-37.8148084</td>\n",
       "      <td>144.980999</td>\n",
       "      <td>25.16</td>\n",
       "      <td>36.47</td>\n",
       "    </tr>\n",
       "    <tr>\n",
       "      <th>1</th>\n",
       "      <td>2</td>\n",
       "      <td>09/12/0014 00:13</td>\n",
       "      <td>-37.8148084</td>\n",
       "      <td>144.980999</td>\n",
       "      <td>24.83</td>\n",
       "      <td>35.52</td>\n",
       "    </tr>\n",
       "    <tr>\n",
       "      <th>2</th>\n",
       "      <td>3</td>\n",
       "      <td>09/12/0014 00:23</td>\n",
       "      <td>-37.8148084</td>\n",
       "      <td>144.980999</td>\n",
       "      <td>24.83</td>\n",
       "      <td>35.68</td>\n",
       "    </tr>\n",
       "    <tr>\n",
       "      <th>3</th>\n",
       "      <td>4</td>\n",
       "      <td>09/12/0014 00:33</td>\n",
       "      <td>-37.8148084</td>\n",
       "      <td>144.980999</td>\n",
       "      <td>24.83</td>\n",
       "      <td>35.84</td>\n",
       "    </tr>\n",
       "    <tr>\n",
       "      <th>4</th>\n",
       "      <td>5</td>\n",
       "      <td>09/12/0014 00:44</td>\n",
       "      <td>-37.8148084</td>\n",
       "      <td>144.980999</td>\n",
       "      <td>24.83</td>\n",
       "      <td>35.99</td>\n",
       "    </tr>\n",
       "  </tbody>\n",
       "</table>\n",
       "</div>"
      ],
      "text/plain": [
       "   ID         timestamp     latitude   longitude  temperature  humidity\n",
       "0   1  09/12/0014 00:03  -37.8148084  144.980999        25.16     36.47\n",
       "1   2  09/12/0014 00:13  -37.8148084  144.980999        24.83     35.52\n",
       "2   3  09/12/0014 00:23  -37.8148084  144.980999        24.83     35.68\n",
       "3   4  09/12/0014 00:33  -37.8148084  144.980999        24.83     35.84\n",
       "4   5  09/12/0014 00:44  -37.8148084  144.980999        24.83     35.99"
      ]
     },
     "execution_count": 32,
     "metadata": {},
     "output_type": "execute_result"
    }
   ],
   "source": [
    "df501.insert(2,'latitude','-37.8148084')\n",
    "df501.insert(3,'longitude','144.980999')\n",
    "df501.head()"
   ]
  },
  {
   "cell_type": "code",
   "execution_count": null,
   "id": "40e749cd",
   "metadata": {},
   "outputs": [],
   "source": []
  },
  {
   "cell_type": "code",
   "execution_count": 33,
   "id": "4c70116e",
   "metadata": {},
   "outputs": [
    {
     "data": {
      "text/html": [
       "<div>\n",
       "<style scoped>\n",
       "    .dataframe tbody tr th:only-of-type {\n",
       "        vertical-align: middle;\n",
       "    }\n",
       "\n",
       "    .dataframe tbody tr th {\n",
       "        vertical-align: top;\n",
       "    }\n",
       "\n",
       "    .dataframe thead th {\n",
       "        text-align: right;\n",
       "    }\n",
       "</style>\n",
       "<table border=\"1\" class=\"dataframe\">\n",
       "  <thead>\n",
       "    <tr style=\"text-align: right;\">\n",
       "      <th></th>\n",
       "      <th>ID</th>\n",
       "      <th>timestamp</th>\n",
       "      <th>latitude</th>\n",
       "      <th>longitude</th>\n",
       "      <th>temperature</th>\n",
       "      <th>humidity</th>\n",
       "    </tr>\n",
       "  </thead>\n",
       "  <tbody>\n",
       "    <tr>\n",
       "      <th>0</th>\n",
       "      <td>1368</td>\n",
       "      <td>09/12/0014 00:01</td>\n",
       "      <td>-37.8146097</td>\n",
       "      <td>144.9790177</td>\n",
       "      <td>23.54</td>\n",
       "      <td>30.63</td>\n",
       "    </tr>\n",
       "    <tr>\n",
       "      <th>1</th>\n",
       "      <td>1369</td>\n",
       "      <td>09/12/0014 00:11</td>\n",
       "      <td>-37.8146097</td>\n",
       "      <td>144.9790177</td>\n",
       "      <td>23.54</td>\n",
       "      <td>31.11</td>\n",
       "    </tr>\n",
       "    <tr>\n",
       "      <th>2</th>\n",
       "      <td>1370</td>\n",
       "      <td>09/12/0014 00:21</td>\n",
       "      <td>-37.8146097</td>\n",
       "      <td>144.9790177</td>\n",
       "      <td>23.54</td>\n",
       "      <td>30.63</td>\n",
       "    </tr>\n",
       "    <tr>\n",
       "      <th>3</th>\n",
       "      <td>1371</td>\n",
       "      <td>09/12/0014 00:32</td>\n",
       "      <td>-37.8146097</td>\n",
       "      <td>144.9790177</td>\n",
       "      <td>23.54</td>\n",
       "      <td>30.79</td>\n",
       "    </tr>\n",
       "    <tr>\n",
       "      <th>4</th>\n",
       "      <td>1372</td>\n",
       "      <td>09/12/0014 00:42</td>\n",
       "      <td>-37.8146097</td>\n",
       "      <td>144.9790177</td>\n",
       "      <td>22.90</td>\n",
       "      <td>30.63</td>\n",
       "    </tr>\n",
       "  </tbody>\n",
       "</table>\n",
       "</div>"
      ],
      "text/plain": [
       "     ID         timestamp     latitude    longitude  temperature  humidity\n",
       "0  1368  09/12/0014 00:01  -37.8146097  144.9790177        23.54     30.63\n",
       "1  1369  09/12/0014 00:11  -37.8146097  144.9790177        23.54     31.11\n",
       "2  1370  09/12/0014 00:21  -37.8146097  144.9790177        23.54     30.63\n",
       "3  1371  09/12/0014 00:32  -37.8146097  144.9790177        23.54     30.79\n",
       "4  1372  09/12/0014 00:42  -37.8146097  144.9790177        22.90     30.63"
      ]
     },
     "execution_count": 33,
     "metadata": {},
     "output_type": "execute_result"
    }
   ],
   "source": [
    "df502 = pd.read_csv('Data/Node_502.csv', parse_dates=['timestamp'])\n",
    "df502.insert(2,'latitude','-37.8146097')\n",
    "df502.insert(3,'longitude','144.9790177')\n",
    "df502.head()"
   ]
  },
  {
   "cell_type": "code",
   "execution_count": 34,
   "id": "16130a7c",
   "metadata": {},
   "outputs": [
    {
     "data": {
      "text/html": [
       "<div>\n",
       "<style scoped>\n",
       "    .dataframe tbody tr th:only-of-type {\n",
       "        vertical-align: middle;\n",
       "    }\n",
       "\n",
       "    .dataframe tbody tr th {\n",
       "        vertical-align: top;\n",
       "    }\n",
       "\n",
       "    .dataframe thead th {\n",
       "        text-align: right;\n",
       "    }\n",
       "</style>\n",
       "<table border=\"1\" class=\"dataframe\">\n",
       "  <thead>\n",
       "    <tr style=\"text-align: right;\">\n",
       "      <th></th>\n",
       "      <th>ID</th>\n",
       "      <th>timestamp</th>\n",
       "      <th>latitude</th>\n",
       "      <th>longitude</th>\n",
       "      <th>temperature</th>\n",
       "      <th>humidity</th>\n",
       "    </tr>\n",
       "  </thead>\n",
       "  <tbody>\n",
       "    <tr>\n",
       "      <th>0</th>\n",
       "      <td>2622</td>\n",
       "      <td>09/12/0014 00:01</td>\n",
       "      <td>-37.813073</td>\n",
       "      <td>144.9804061</td>\n",
       "      <td>23.87</td>\n",
       "      <td>36.15</td>\n",
       "    </tr>\n",
       "    <tr>\n",
       "      <th>1</th>\n",
       "      <td>2623</td>\n",
       "      <td>09/12/0014 00:11</td>\n",
       "      <td>-37.813073</td>\n",
       "      <td>144.9804061</td>\n",
       "      <td>23.54</td>\n",
       "      <td>36.62</td>\n",
       "    </tr>\n",
       "    <tr>\n",
       "      <th>2</th>\n",
       "      <td>2624</td>\n",
       "      <td>09/12/0014 00:21</td>\n",
       "      <td>-37.813073</td>\n",
       "      <td>144.9804061</td>\n",
       "      <td>23.54</td>\n",
       "      <td>36.15</td>\n",
       "    </tr>\n",
       "    <tr>\n",
       "      <th>3</th>\n",
       "      <td>2625</td>\n",
       "      <td>09/12/0014 00:32</td>\n",
       "      <td>-37.813073</td>\n",
       "      <td>144.9804061</td>\n",
       "      <td>23.54</td>\n",
       "      <td>NaN</td>\n",
       "    </tr>\n",
       "    <tr>\n",
       "      <th>4</th>\n",
       "      <td>2626</td>\n",
       "      <td>09/12/0014 00:42</td>\n",
       "      <td>-37.813073</td>\n",
       "      <td>144.9804061</td>\n",
       "      <td>23.54</td>\n",
       "      <td>36.31</td>\n",
       "    </tr>\n",
       "  </tbody>\n",
       "</table>\n",
       "</div>"
      ],
      "text/plain": [
       "     ID         timestamp    latitude    longitude  temperature  humidity\n",
       "0  2622  09/12/0014 00:01  -37.813073  144.9804061        23.87     36.15\n",
       "1  2623  09/12/0014 00:11  -37.813073  144.9804061        23.54     36.62\n",
       "2  2624  09/12/0014 00:21  -37.813073  144.9804061        23.54     36.15\n",
       "3  2625  09/12/0014 00:32  -37.813073  144.9804061        23.54       NaN\n",
       "4  2626  09/12/0014 00:42  -37.813073  144.9804061        23.54     36.31"
      ]
     },
     "execution_count": 34,
     "metadata": {},
     "output_type": "execute_result"
    }
   ],
   "source": [
    "df505=pd.read_csv('Data/Node_505.csv', parse_dates=['timestamp'])\n",
    "df505.insert(2,'latitude','-37.813073')\n",
    "df505.insert(3,'longitude','144.9804061')\n",
    "df505.head()"
   ]
  },
  {
   "cell_type": "code",
   "execution_count": 35,
   "id": "9a67b1eb",
   "metadata": {},
   "outputs": [
    {
     "data": {
      "text/html": [
       "<div>\n",
       "<style scoped>\n",
       "    .dataframe tbody tr th:only-of-type {\n",
       "        vertical-align: middle;\n",
       "    }\n",
       "\n",
       "    .dataframe tbody tr th {\n",
       "        vertical-align: top;\n",
       "    }\n",
       "\n",
       "    .dataframe thead th {\n",
       "        text-align: right;\n",
       "    }\n",
       "</style>\n",
       "<table border=\"1\" class=\"dataframe\">\n",
       "  <thead>\n",
       "    <tr style=\"text-align: right;\">\n",
       "      <th></th>\n",
       "      <th>ID</th>\n",
       "      <th>timestamp</th>\n",
       "      <th>latitude</th>\n",
       "      <th>longitude</th>\n",
       "      <th>temperature</th>\n",
       "      <th>humidity</th>\n",
       "    </tr>\n",
       "  </thead>\n",
       "  <tbody>\n",
       "    <tr>\n",
       "      <th>0</th>\n",
       "      <td>3990</td>\n",
       "      <td>09/12/0014 00:01</td>\n",
       "      <td>-37.8149218</td>\n",
       "      <td>144.9822582</td>\n",
       "      <td>23.22</td>\n",
       "      <td>36.15</td>\n",
       "    </tr>\n",
       "    <tr>\n",
       "      <th>1</th>\n",
       "      <td>3991</td>\n",
       "      <td>09/12/0014 00:11</td>\n",
       "      <td>-37.8149218</td>\n",
       "      <td>144.9822582</td>\n",
       "      <td>22.90</td>\n",
       "      <td>36.31</td>\n",
       "    </tr>\n",
       "    <tr>\n",
       "      <th>2</th>\n",
       "      <td>3992</td>\n",
       "      <td>09/12/0014 00:21</td>\n",
       "      <td>-37.8149218</td>\n",
       "      <td>144.9822582</td>\n",
       "      <td>22.58</td>\n",
       "      <td>35.99</td>\n",
       "    </tr>\n",
       "    <tr>\n",
       "      <th>3</th>\n",
       "      <td>3993</td>\n",
       "      <td>09/12/0014 00:32</td>\n",
       "      <td>-37.8149218</td>\n",
       "      <td>144.9822582</td>\n",
       "      <td>22.90</td>\n",
       "      <td>NaN</td>\n",
       "    </tr>\n",
       "    <tr>\n",
       "      <th>4</th>\n",
       "      <td>3994</td>\n",
       "      <td>09/12/0014 00:42</td>\n",
       "      <td>-37.8149218</td>\n",
       "      <td>144.9822582</td>\n",
       "      <td>22.90</td>\n",
       "      <td>36.15</td>\n",
       "    </tr>\n",
       "  </tbody>\n",
       "</table>\n",
       "</div>"
      ],
      "text/plain": [
       "     ID         timestamp     latitude    longitude  temperature  humidity\n",
       "0  3990  09/12/0014 00:01  -37.8149218  144.9822582        23.22     36.15\n",
       "1  3991  09/12/0014 00:11  -37.8149218  144.9822582        22.90     36.31\n",
       "2  3992  09/12/0014 00:21  -37.8149218  144.9822582        22.58     35.99\n",
       "3  3993  09/12/0014 00:32  -37.8149218  144.9822582        22.90       NaN\n",
       "4  3994  09/12/0014 00:42  -37.8149218  144.9822582        22.90     36.15"
      ]
     },
     "execution_count": 35,
     "metadata": {},
     "output_type": "execute_result"
    }
   ],
   "source": [
    "df507 = pd.read_csv('Data/Node_507.csv', parse_dates=['timestamp'])\n",
    "df507.insert(2,'latitude','-37.8149218')\n",
    "df507.insert(3,'longitude','144.9822582')\n",
    "df507.head()"
   ]
  },
  {
   "cell_type": "code",
   "execution_count": 36,
   "id": "d8cf787f",
   "metadata": {},
   "outputs": [
    {
     "data": {
      "text/html": [
       "<div>\n",
       "<style scoped>\n",
       "    .dataframe tbody tr th:only-of-type {\n",
       "        vertical-align: middle;\n",
       "    }\n",
       "\n",
       "    .dataframe tbody tr th {\n",
       "        vertical-align: top;\n",
       "    }\n",
       "\n",
       "    .dataframe thead th {\n",
       "        text-align: right;\n",
       "    }\n",
       "</style>\n",
       "<table border=\"1\" class=\"dataframe\">\n",
       "  <thead>\n",
       "    <tr style=\"text-align: right;\">\n",
       "      <th></th>\n",
       "      <th>ID</th>\n",
       "      <th>timestamp</th>\n",
       "      <th>latitude</th>\n",
       "      <th>longitude</th>\n",
       "      <th>temperature</th>\n",
       "      <th>humidity</th>\n",
       "    </tr>\n",
       "  </thead>\n",
       "  <tbody>\n",
       "    <tr>\n",
       "      <th>0</th>\n",
       "      <td>5353</td>\n",
       "      <td>09/12/0014 00:01</td>\n",
       "      <td>-37.8134078</td>\n",
       "      <td>144.9794923</td>\n",
       "      <td>23.54</td>\n",
       "      <td>36.31</td>\n",
       "    </tr>\n",
       "    <tr>\n",
       "      <th>1</th>\n",
       "      <td>5354</td>\n",
       "      <td>09/12/0014 00:12</td>\n",
       "      <td>-37.8134078</td>\n",
       "      <td>144.9794923</td>\n",
       "      <td>23.22</td>\n",
       "      <td>36.15</td>\n",
       "    </tr>\n",
       "    <tr>\n",
       "      <th>2</th>\n",
       "      <td>5355</td>\n",
       "      <td>09/12/0014 00:22</td>\n",
       "      <td>-37.8134078</td>\n",
       "      <td>144.9794923</td>\n",
       "      <td>23.54</td>\n",
       "      <td>35.84</td>\n",
       "    </tr>\n",
       "    <tr>\n",
       "      <th>3</th>\n",
       "      <td>5356</td>\n",
       "      <td>09/12/0014 00:32</td>\n",
       "      <td>-37.8134078</td>\n",
       "      <td>144.9794923</td>\n",
       "      <td>23.54</td>\n",
       "      <td>NaN</td>\n",
       "    </tr>\n",
       "    <tr>\n",
       "      <th>4</th>\n",
       "      <td>5357</td>\n",
       "      <td>09/12/0014 00:42</td>\n",
       "      <td>-37.8134078</td>\n",
       "      <td>144.9794923</td>\n",
       "      <td>23.22</td>\n",
       "      <td>35.99</td>\n",
       "    </tr>\n",
       "  </tbody>\n",
       "</table>\n",
       "</div>"
      ],
      "text/plain": [
       "     ID         timestamp     latitude    longitude  temperature  humidity\n",
       "0  5353  09/12/0014 00:01  -37.8134078  144.9794923        23.54     36.31\n",
       "1  5354  09/12/0014 00:12  -37.8134078  144.9794923        23.22     36.15\n",
       "2  5355  09/12/0014 00:22  -37.8134078  144.9794923        23.54     35.84\n",
       "3  5356  09/12/0014 00:32  -37.8134078  144.9794923        23.54       NaN\n",
       "4  5357  09/12/0014 00:42  -37.8134078  144.9794923        23.22     35.99"
      ]
     },
     "execution_count": 36,
     "metadata": {},
     "output_type": "execute_result"
    }
   ],
   "source": [
    "df508 = pd.read_csv('Data/Node_508.csv', parse_dates=['timestamp'])\n",
    "df508.insert(2,'latitude','-37.8134078')\n",
    "df508.insert(3,'longitude','144.9794923')\n",
    "df508.head()"
   ]
  },
  {
   "cell_type": "code",
   "execution_count": 37,
   "id": "ef166ded",
   "metadata": {},
   "outputs": [],
   "source": [
    "#Meging the above data frames\n",
    "df = pd.concat([df501,df502,df505,df507,df508])\n"
   ]
  },
  {
   "cell_type": "code",
   "execution_count": 38,
   "id": "80f466ae",
   "metadata": {},
   "outputs": [
    {
     "data": {
      "text/plain": [
       "ID             6583\n",
       "timestamp      6583\n",
       "latitude       6583\n",
       "longitude      6583\n",
       "temperature    6345\n",
       "humidity       6321\n",
       "dtype: int64"
      ]
     },
     "execution_count": 38,
     "metadata": {},
     "output_type": "execute_result"
    }
   ],
   "source": [
    "df.count()"
   ]
  },
  {
   "cell_type": "code",
   "execution_count": 39,
   "id": "ae09e6df",
   "metadata": {},
   "outputs": [
    {
     "data": {
      "text/plain": [
       "0       <class 'str'>\n",
       "1       <class 'str'>\n",
       "2       <class 'str'>\n",
       "3       <class 'str'>\n",
       "4       <class 'str'>\n",
       "            ...      \n",
       "1226    <class 'str'>\n",
       "1227    <class 'str'>\n",
       "1228    <class 'str'>\n",
       "1229    <class 'str'>\n",
       "1230    <class 'str'>\n",
       "Name: timestamp, Length: 6583, dtype: object"
      ]
     },
     "execution_count": 39,
     "metadata": {},
     "output_type": "execute_result"
    }
   ],
   "source": [
    "df['timestamp'].apply(type)"
   ]
  },
  {
   "cell_type": "code",
   "execution_count": 40,
   "id": "3c41e528",
   "metadata": {},
   "outputs": [],
   "source": [
    "def string_to_time(time_str):\n",
    "    date, timestamp = time_str.split(' ')\n",
    "    day, month, year  = list(map(int,date.split('/')))\n",
    "    hours , minutes = list(map(int,timestamp.split(':')))\n",
    "    #print(f'day: {day}, month : {month}, year: {year}, hours : {hours}, minutes : {minutes}')\n",
    "    date_time = datetime.datetime(year+2000, month, day, hours, minutes)\n",
    "    unix_time = time.mktime(date_time.timetuple())\n",
    "    return unix_time\n",
    "    \n",
    "    "
   ]
  },
  {
   "cell_type": "code",
   "execution_count": null,
   "id": "f6f794c3",
   "metadata": {},
   "outputs": [],
   "source": []
  },
  {
   "cell_type": "code",
   "execution_count": 41,
   "id": "559c0d4e",
   "metadata": {},
   "outputs": [
    {
     "data": {
      "text/plain": [
       "1418063460.0"
      ]
     },
     "execution_count": 41,
     "metadata": {},
     "output_type": "execute_result"
    }
   ],
   "source": [
    "string_to_time(\"09/12/0014 00:01\")"
   ]
  },
  {
   "cell_type": "code",
   "execution_count": 42,
   "id": "da8ba7bb",
   "metadata": {},
   "outputs": [],
   "source": [
    "df['timestamp'] = df['timestamp'].apply(string_to_time)"
   ]
  },
  {
   "cell_type": "code",
   "execution_count": 43,
   "id": "e744bc60",
   "metadata": {},
   "outputs": [],
   "source": [
    "df['latitude'] = df['latitude'].apply(float)\n",
    "df['longitude'] = df['longitude'].apply(float)"
   ]
  },
  {
   "cell_type": "code",
   "execution_count": 44,
   "id": "6d8312df",
   "metadata": {},
   "outputs": [
    {
     "data": {
      "text/html": [
       "<div>\n",
       "<style scoped>\n",
       "    .dataframe tbody tr th:only-of-type {\n",
       "        vertical-align: middle;\n",
       "    }\n",
       "\n",
       "    .dataframe tbody tr th {\n",
       "        vertical-align: top;\n",
       "    }\n",
       "\n",
       "    .dataframe thead th {\n",
       "        text-align: right;\n",
       "    }\n",
       "</style>\n",
       "<table border=\"1\" class=\"dataframe\">\n",
       "  <thead>\n",
       "    <tr style=\"text-align: right;\">\n",
       "      <th></th>\n",
       "      <th>ID</th>\n",
       "      <th>timestamp</th>\n",
       "      <th>latitude</th>\n",
       "      <th>longitude</th>\n",
       "      <th>temperature</th>\n",
       "      <th>humidity</th>\n",
       "    </tr>\n",
       "  </thead>\n",
       "  <tbody>\n",
       "    <tr>\n",
       "      <th>0</th>\n",
       "      <td>1</td>\n",
       "      <td>1.418064e+09</td>\n",
       "      <td>-37.814808</td>\n",
       "      <td>144.980999</td>\n",
       "      <td>25.16</td>\n",
       "      <td>36.47</td>\n",
       "    </tr>\n",
       "    <tr>\n",
       "      <th>1</th>\n",
       "      <td>2</td>\n",
       "      <td>1.418064e+09</td>\n",
       "      <td>-37.814808</td>\n",
       "      <td>144.980999</td>\n",
       "      <td>24.83</td>\n",
       "      <td>35.52</td>\n",
       "    </tr>\n",
       "    <tr>\n",
       "      <th>2</th>\n",
       "      <td>3</td>\n",
       "      <td>1.418065e+09</td>\n",
       "      <td>-37.814808</td>\n",
       "      <td>144.980999</td>\n",
       "      <td>24.83</td>\n",
       "      <td>35.68</td>\n",
       "    </tr>\n",
       "    <tr>\n",
       "      <th>3</th>\n",
       "      <td>4</td>\n",
       "      <td>1.418065e+09</td>\n",
       "      <td>-37.814808</td>\n",
       "      <td>144.980999</td>\n",
       "      <td>24.83</td>\n",
       "      <td>35.84</td>\n",
       "    </tr>\n",
       "    <tr>\n",
       "      <th>4</th>\n",
       "      <td>5</td>\n",
       "      <td>1.418066e+09</td>\n",
       "      <td>-37.814808</td>\n",
       "      <td>144.980999</td>\n",
       "      <td>24.83</td>\n",
       "      <td>35.99</td>\n",
       "    </tr>\n",
       "  </tbody>\n",
       "</table>\n",
       "</div>"
      ],
      "text/plain": [
       "   ID     timestamp   latitude   longitude  temperature  humidity\n",
       "0   1  1.418064e+09 -37.814808  144.980999        25.16     36.47\n",
       "1   2  1.418064e+09 -37.814808  144.980999        24.83     35.52\n",
       "2   3  1.418065e+09 -37.814808  144.980999        24.83     35.68\n",
       "3   4  1.418065e+09 -37.814808  144.980999        24.83     35.84\n",
       "4   5  1.418066e+09 -37.814808  144.980999        24.83     35.99"
      ]
     },
     "execution_count": 44,
     "metadata": {},
     "output_type": "execute_result"
    }
   ],
   "source": [
    "df.head()"
   ]
  },
  {
   "cell_type": "code",
   "execution_count": 45,
   "id": "0f55d22e",
   "metadata": {},
   "outputs": [
    {
     "data": {
      "text/plain": [
       "<AxesSubplot:xlabel='ID', ylabel='humidity'>"
      ]
     },
     "execution_count": 45,
     "metadata": {},
     "output_type": "execute_result"
    },
    {
     "data": {
      "image/png": "[encoded data removed]",
      "text/plain": [
       "<Figure size 640x480 with 1 Axes>"
      ]
     },
     "metadata": {},
     "output_type": "display_data"
    }
   ],
   "source": [
    "df.plot.scatter('ID','humidity')\n"
   ]
  },
  {
   "cell_type": "code",
   "execution_count": 27,
   "id": "d70de024",
   "metadata": {},
   "outputs": [],
   "source": [
    "gpt_df = df.dropna()"
   ]
  },
  {
   "cell_type": "code",
   "execution_count": 48,
   "id": "9baaef30",
   "metadata": {},
   "outputs": [
    {
     "ename": "InvalidIndexError",
     "evalue": "(slice(None, None, None), slice(1, 7, None))",
     "output_type": "error",
     "traceback": [
      "\u001b[0;31m---------------------------------------------------------------------------\u001b[0m",
      "\u001b[0;31mTypeError\u001b[0m                                 Traceback (most recent call last)",
      "\u001b[0;32m~/opt/anaconda3/lib/python3.9/site-packages/pandas/core/indexes/base.py\u001b[0m in \u001b[0;36mget_loc\u001b[0;34m(self, key, method, tolerance)\u001b[0m\n\u001b[1;32m   3628\u001b[0m             \u001b[0;32mtry\u001b[0m\u001b[0;34m:\u001b[0m\u001b[0;34m\u001b[0m\u001b[0;34m\u001b[0m\u001b[0m\n\u001b[0;32m-> 3629\u001b[0;31m                 \u001b[0;32mreturn\u001b[0m \u001b[0mself\u001b[0m\u001b[0;34m.\u001b[0m\u001b[0m_engine\u001b[0m\u001b[0;34m.\u001b[0m\u001b[0mget_loc\u001b[0m\u001b[0;34m(\u001b[0m\u001b[0mcasted_key\u001b[0m\u001b[0;34m)\u001b[0m\u001b[0;34m\u001b[0m\u001b[0;34m\u001b[0m\u001b[0m\n\u001b[0m\u001b[1;32m   3630\u001b[0m             \u001b[0;32mexcept\u001b[0m \u001b[0mKeyError\u001b[0m \u001b[0;32mas\u001b[0m \u001b[0merr\u001b[0m\u001b[0;34m:\u001b[0m\u001b[0;34m\u001b[0m\u001b[0;34m\u001b[0m\u001b[0m\n",
      "\u001b[0;32m~/opt/anaconda3/lib/python3.9/site-packages/pandas/_libs/index.pyx\u001b[0m in \u001b[0;36mpandas._libs.index.IndexEngine.get_loc\u001b[0;34m()\u001b[0m\n",
      "\u001b[0;32m~/opt/anaconda3/lib/python3.9/site-packages/pandas/_libs/index.pyx\u001b[0m in \u001b[0;36mpandas._libs.index.IndexEngine.get_loc\u001b[0;34m()\u001b[0m\n",
      "\u001b[0;31mTypeError\u001b[0m: '(slice(None, None, None), slice(1, 7, None))' is an invalid key",
      "\nDuring handling of the above exception, another exception occurred:\n",
      "\u001b[0;31mInvalidIndexError\u001b[0m                         Traceback (most recent call last)",
      "\u001b[0;32m/var/folders/8d/ftv5hsns5r3gsjsltnwk_ysr0000gn/T/ipykernel_34043/3578208292.py\u001b[0m in \u001b[0;36m<module>\u001b[0;34m\u001b[0m\n\u001b[0;32m----> 1\u001b[0;31m \u001b[0mgpt_df\u001b[0m\u001b[0;34m[\u001b[0m\u001b[0;34m:\u001b[0m\u001b[0;34m,\u001b[0m\u001b[0;36m1\u001b[0m\u001b[0;34m:\u001b[0m\u001b[0;36m7\u001b[0m\u001b[0;34m]\u001b[0m\u001b[0;34m.\u001b[0m\u001b[0mto_csv\u001b[0m\u001b[0;34m(\u001b[0m\u001b[0;34m'sensor_data.csv'\u001b[0m\u001b[0;34m)\u001b[0m\u001b[0;34m\u001b[0m\u001b[0;34m\u001b[0m\u001b[0m\n\u001b[0m",
      "\u001b[0;32m~/opt/anaconda3/lib/python3.9/site-packages/pandas/core/frame.py\u001b[0m in \u001b[0;36m__getitem__\u001b[0;34m(self, key)\u001b[0m\n\u001b[1;32m   3503\u001b[0m             \u001b[0;32mif\u001b[0m \u001b[0mself\u001b[0m\u001b[0;34m.\u001b[0m\u001b[0mcolumns\u001b[0m\u001b[0;34m.\u001b[0m\u001b[0mnlevels\u001b[0m \u001b[0;34m>\u001b[0m \u001b[0;36m1\u001b[0m\u001b[0;34m:\u001b[0m\u001b[0;34m\u001b[0m\u001b[0;34m\u001b[0m\u001b[0m\n\u001b[1;32m   3504\u001b[0m                 \u001b[0;32mreturn\u001b[0m \u001b[0mself\u001b[0m\u001b[0;34m.\u001b[0m\u001b[0m_getitem_multilevel\u001b[0m\u001b[0;34m(\u001b[0m\u001b[0mkey\u001b[0m\u001b[0;34m)\u001b[0m\u001b[0;34m\u001b[0m\u001b[0;34m\u001b[0m\u001b[0m\n\u001b[0;32m-> 3505\u001b[0;31m             \u001b[0mindexer\u001b[0m \u001b[0;34m=\u001b[0m \u001b[0mself\u001b[0m\u001b[0;34m.\u001b[0m\u001b[0mcolumns\u001b[0m\u001b[0;34m.\u001b[0m\u001b[0mget_loc\u001b[0m\u001b[0;34m(\u001b[0m\u001b[0mkey\u001b[0m\u001b[0;34m)\u001b[0m\u001b[0;34m\u001b[0m\u001b[0;34m\u001b[0m\u001b[0m\n\u001b[0m\u001b[1;32m   3506\u001b[0m             \u001b[0;32mif\u001b[0m \u001b[0mis_integer\u001b[0m\u001b[0;34m(\u001b[0m\u001b[0mindexer\u001b[0m\u001b[0;34m)\u001b[0m\u001b[0;34m:\u001b[0m\u001b[0;34m\u001b[0m\u001b[0;34m\u001b[0m\u001b[0m\n\u001b[1;32m   3507\u001b[0m                 \u001b[0mindexer\u001b[0m \u001b[0;34m=\u001b[0m \u001b[0;34m[\u001b[0m\u001b[0mindexer\u001b[0m\u001b[0;34m]\u001b[0m\u001b[0;34m\u001b[0m\u001b[0;34m\u001b[0m\u001b[0m\n",
      "\u001b[0;32m~/opt/anaconda3/lib/python3.9/site-packages/pandas/core/indexes/base.py\u001b[0m in \u001b[0;36mget_loc\u001b[0;34m(self, key, method, tolerance)\u001b[0m\n\u001b[1;32m   3634\u001b[0m                 \u001b[0;31m#  InvalidIndexError. Otherwise we fall through and re-raise\u001b[0m\u001b[0;34m\u001b[0m\u001b[0;34m\u001b[0m\u001b[0m\n\u001b[1;32m   3635\u001b[0m                 \u001b[0;31m#  the TypeError.\u001b[0m\u001b[0;34m\u001b[0m\u001b[0;34m\u001b[0m\u001b[0m\n\u001b[0;32m-> 3636\u001b[0;31m                 \u001b[0mself\u001b[0m\u001b[0;34m.\u001b[0m\u001b[0m_check_indexing_error\u001b[0m\u001b[0;34m(\u001b[0m\u001b[0mkey\u001b[0m\u001b[0;34m)\u001b[0m\u001b[0;34m\u001b[0m\u001b[0;34m\u001b[0m\u001b[0m\n\u001b[0m\u001b[1;32m   3637\u001b[0m                 \u001b[0;32mraise\u001b[0m\u001b[0;34m\u001b[0m\u001b[0;34m\u001b[0m\u001b[0m\n\u001b[1;32m   3638\u001b[0m \u001b[0;34m\u001b[0m\u001b[0m\n",
      "\u001b[0;32m~/opt/anaconda3/lib/python3.9/site-packages/pandas/core/indexes/base.py\u001b[0m in \u001b[0;36m_check_indexing_error\u001b[0;34m(self, key)\u001b[0m\n\u001b[1;32m   5649\u001b[0m             \u001b[0;31m# if key is not a scalar, directly raise an error (the code below\u001b[0m\u001b[0;34m\u001b[0m\u001b[0;34m\u001b[0m\u001b[0m\n\u001b[1;32m   5650\u001b[0m             \u001b[0;31m# would convert to numpy arrays and raise later any way) - GH29926\u001b[0m\u001b[0;34m\u001b[0m\u001b[0;34m\u001b[0m\u001b[0m\n\u001b[0;32m-> 5651\u001b[0;31m             \u001b[0;32mraise\u001b[0m \u001b[0mInvalidIndexError\u001b[0m\u001b[0;34m(\u001b[0m\u001b[0mkey\u001b[0m\u001b[0;34m)\u001b[0m\u001b[0;34m\u001b[0m\u001b[0;34m\u001b[0m\u001b[0m\n\u001b[0m\u001b[1;32m   5652\u001b[0m \u001b[0;34m\u001b[0m\u001b[0m\n\u001b[1;32m   5653\u001b[0m     \u001b[0;34m@\u001b[0m\u001b[0mcache_readonly\u001b[0m\u001b[0;34m\u001b[0m\u001b[0;34m\u001b[0m\u001b[0m\n",
      "\u001b[0;31mInvalidIndexError\u001b[0m: (slice(None, None, None), slice(1, 7, None))"
     ]
    }
   ],
   "source": [
    "gpt_df[:,].to_csv('sensor_data.csv')"
   ]
  },
  {
   "cell_type": "code",
   "execution_count": 19,
   "id": "60cbdfd5",
   "metadata": {},
   "outputs": [
    {
     "data": {
      "text/html": [
       "<div>\n",
       "<style scoped>\n",
       "    .dataframe tbody tr th:only-of-type {\n",
       "        vertical-align: middle;\n",
       "    }\n",
       "\n",
       "    .dataframe tbody tr th {\n",
       "        vertical-align: top;\n",
       "    }\n",
       "\n",
       "    .dataframe thead th {\n",
       "        text-align: right;\n",
       "    }\n",
       "</style>\n",
       "<table border=\"1\" class=\"dataframe\">\n",
       "  <thead>\n",
       "    <tr style=\"text-align: right;\">\n",
       "      <th></th>\n",
       "      <th>ID</th>\n",
       "      <th>timestamp</th>\n",
       "      <th>latitude</th>\n",
       "      <th>longitude</th>\n",
       "      <th>temperature</th>\n",
       "      <th>humidity</th>\n",
       "    </tr>\n",
       "  </thead>\n",
       "  <tbody>\n",
       "    <tr>\n",
       "      <th>0</th>\n",
       "      <td>1</td>\n",
       "      <td>1.418064e+09</td>\n",
       "      <td>-37.814808</td>\n",
       "      <td>144.980999</td>\n",
       "      <td>25.16</td>\n",
       "      <td>36.47</td>\n",
       "    </tr>\n",
       "    <tr>\n",
       "      <th>1</th>\n",
       "      <td>2</td>\n",
       "      <td>1.418064e+09</td>\n",
       "      <td>-37.814808</td>\n",
       "      <td>144.980999</td>\n",
       "      <td>24.83</td>\n",
       "      <td>35.52</td>\n",
       "    </tr>\n",
       "    <tr>\n",
       "      <th>2</th>\n",
       "      <td>3</td>\n",
       "      <td>1.418065e+09</td>\n",
       "      <td>-37.814808</td>\n",
       "      <td>144.980999</td>\n",
       "      <td>24.83</td>\n",
       "      <td>35.68</td>\n",
       "    </tr>\n",
       "    <tr>\n",
       "      <th>3</th>\n",
       "      <td>4</td>\n",
       "      <td>1.418065e+09</td>\n",
       "      <td>-37.814808</td>\n",
       "      <td>144.980999</td>\n",
       "      <td>24.83</td>\n",
       "      <td>35.84</td>\n",
       "    </tr>\n",
       "    <tr>\n",
       "      <th>4</th>\n",
       "      <td>5</td>\n",
       "      <td>1.418066e+09</td>\n",
       "      <td>-37.814808</td>\n",
       "      <td>144.980999</td>\n",
       "      <td>24.83</td>\n",
       "      <td>35.99</td>\n",
       "    </tr>\n",
       "  </tbody>\n",
       "</table>\n",
       "</div>"
      ],
      "text/plain": [
       "   ID     timestamp   latitude   longitude  temperature  humidity\n",
       "0   1  1.418064e+09 -37.814808  144.980999        25.16     36.47\n",
       "1   2  1.418064e+09 -37.814808  144.980999        24.83     35.52\n",
       "2   3  1.418065e+09 -37.814808  144.980999        24.83     35.68\n",
       "3   4  1.418065e+09 -37.814808  144.980999        24.83     35.84\n",
       "4   5  1.418066e+09 -37.814808  144.980999        24.83     35.99"
      ]
     },
     "execution_count": 19,
     "metadata": {},
     "output_type": "execute_result"
    }
   ],
   "source": [
    "df_copy = df\n",
    "df_copy.head()\n"
   ]
  },
  {
   "cell_type": "code",
   "execution_count": 20,
   "id": "8af305a8",
   "metadata": {},
   "outputs": [
    {
     "name": "stdout",
     "output_type": "stream",
     "text": [
      "        ID  timestamp   latitude   longitude  temperature  humidity\n",
      "0        1   0.000044 -37.814808  144.980999        25.16     36.47\n",
      "1        2   0.000266 -37.814808  144.980999        24.83     35.52\n",
      "2        3   0.000489 -37.814808  144.980999        24.83     35.68\n",
      "3        4   0.000711 -37.814808  144.980999        24.83     35.84\n",
      "4        5   0.000955 -37.814808  144.980999        24.83     35.99\n",
      "...    ...        ...        ...         ...          ...       ...\n",
      "1226  6579   0.998912 -37.813408  144.979492        16.45     51.92\n",
      "1227  6580   0.999134 -37.813408  144.979492        16.45     52.07\n",
      "1228  6581   0.999378 -37.813408  144.979492        16.12     54.75\n",
      "1229  6582   0.999600 -37.813408  144.979492        16.12     54.12\n",
      "1230  6583   0.999822 -37.813408  144.979492        16.12     53.18\n",
      "\n",
      "[6583 rows x 6 columns]\n",
      "        ID  timestamp  latitude   longitude  temperature  humidity\n",
      "0        1   0.000044  0.061337  144.980999        25.16     36.47\n",
      "1        2   0.000266  0.061337  144.980999        24.83     35.52\n",
      "2        3   0.000489  0.061337  144.980999        24.83     35.68\n",
      "3        4   0.000711  0.061337  144.980999        24.83     35.84\n",
      "4        5   0.000955  0.061337  144.980999        24.83     35.99\n",
      "...    ...        ...       ...         ...          ...       ...\n",
      "1226  6579   0.998912  0.818910  144.979492        16.45     51.92\n",
      "1227  6580   0.999134  0.818910  144.979492        16.45     52.07\n",
      "1228  6581   0.999378  0.818910  144.979492        16.12     54.75\n",
      "1229  6582   0.999600  0.818910  144.979492        16.12     54.12\n",
      "1230  6583   0.999822  0.818910  144.979492        16.12     53.18\n",
      "\n",
      "[6583 rows x 6 columns]\n",
      "        ID  timestamp  latitude  longitude  temperature  humidity\n",
      "0        1   0.000044  0.061337   0.611418        25.16     36.47\n",
      "1        2   0.000266  0.061337   0.611418        24.83     35.52\n",
      "2        3   0.000489  0.061337   0.611418        24.83     35.68\n",
      "3        4   0.000711  0.061337   0.611418        24.83     35.84\n",
      "4        5   0.000955  0.061337   0.611418        24.83     35.99\n",
      "...    ...        ...       ...        ...          ...       ...\n",
      "1226  6579   0.998912  0.818910   0.146459        16.45     51.92\n",
      "1227  6580   0.999134  0.818910   0.146459        16.45     52.07\n",
      "1228  6581   0.999378  0.818910   0.146459        16.12     54.75\n",
      "1229  6582   0.999600  0.818910   0.146459        16.12     54.12\n",
      "1230  6583   0.999822  0.818910   0.146459        16.12     53.18\n",
      "\n",
      "[6583 rows x 6 columns]\n",
      "        ID  timestamp  latitude  longitude  temperature  humidity\n",
      "0        1   0.000044  0.061337   0.611418     0.571587     36.47\n",
      "1        2   0.000266  0.061337   0.611418     0.559410     35.52\n",
      "2        3   0.000489  0.061337   0.611418     0.559410     35.68\n",
      "3        4   0.000711  0.061337   0.611418     0.559410     35.84\n",
      "4        5   0.000955  0.061337   0.611418     0.559410     35.99\n",
      "...    ...        ...       ...        ...          ...       ...\n",
      "1226  6579   0.998912  0.818910   0.146459     0.250185     51.92\n",
      "1227  6580   0.999134  0.818910   0.146459     0.250185     52.07\n",
      "1228  6581   0.999378  0.818910   0.146459     0.238007     54.75\n",
      "1229  6582   0.999600  0.818910   0.146459     0.238007     54.12\n",
      "1230  6583   0.999822  0.818910   0.146459     0.238007     53.18\n",
      "\n",
      "[6583 rows x 6 columns]\n",
      "        ID  timestamp  latitude  longitude  temperature  humidity\n",
      "0        1   0.000044  0.061337   0.611418     0.571587  0.601534\n",
      "1        2   0.000266  0.061337   0.611418     0.559410  0.592192\n",
      "2        3   0.000489  0.061337   0.611418     0.559410  0.593765\n",
      "3        4   0.000711  0.061337   0.611418     0.559410  0.595339\n",
      "4        5   0.000955  0.061337   0.611418     0.559410  0.596814\n",
      "...    ...        ...       ...        ...          ...       ...\n",
      "1226  6579   0.998912  0.818910   0.146459     0.250185  0.753466\n",
      "1227  6580   0.999134  0.818910   0.146459     0.250185  0.754941\n",
      "1228  6581   0.999378  0.818910   0.146459     0.238007  0.781296\n",
      "1229  6582   0.999600  0.818910   0.146459     0.238007  0.775101\n",
      "1230  6583   0.999822  0.818910   0.146459     0.238007  0.765857\n",
      "\n",
      "[6583 rows x 6 columns]\n"
     ]
    }
   ],
   "source": [
    "# apply normalization techniques\n",
    "for column in list(df_copy.columns)[1:6] : \n",
    "    df_copy[column] = (df_copy[column] - df_copy[column].min()) / (df_copy[column].max() - df_copy[column].min())\n",
    "    # view normalized data\n",
    "    print(df_copy)\n",
    "    \n",
    "#df_copy contains the standardized values"
   ]
  },
  {
   "cell_type": "code",
   "execution_count": 21,
   "id": "8249aabc",
   "metadata": {},
   "outputs": [
    {
     "data": {
      "text/plain": [
       "6583"
      ]
     },
     "execution_count": 21,
     "metadata": {},
     "output_type": "execute_result"
    }
   ],
   "source": [
    "df['timestamp'].count()"
   ]
  },
  {
   "cell_type": "code",
   "execution_count": 22,
   "id": "cc39b7dd",
   "metadata": {},
   "outputs": [
    {
     "data": {
      "text/plain": [
       "ID             6583\n",
       "timestamp      6583\n",
       "latitude       6583\n",
       "longitude      6583\n",
       "temperature    6345\n",
       "humidity       6321\n",
       "dtype: int64"
      ]
     },
     "execution_count": 22,
     "metadata": {},
     "output_type": "execute_result"
    }
   ],
   "source": [
    "df_copy.count()"
   ]
  },
  {
   "cell_type": "code",
   "execution_count": 150,
   "id": "98db3ab5",
   "metadata": {},
   "outputs": [],
   "source": [
    "# creatinf a df for temperature outpout\n",
    "df_temperature = df_copy.copy()\n",
    "df_temperature['humidity'].interpolate(inplace=True)\n"
   ]
  },
  {
   "cell_type": "code",
   "execution_count": 151,
   "id": "52ad7e5f",
   "metadata": {},
   "outputs": [
    {
     "data": {
      "text/html": [
       "<div>\n",
       "<style scoped>\n",
       "    .dataframe tbody tr th:only-of-type {\n",
       "        vertical-align: middle;\n",
       "    }\n",
       "\n",
       "    .dataframe tbody tr th {\n",
       "        vertical-align: top;\n",
       "    }\n",
       "\n",
       "    .dataframe thead th {\n",
       "        text-align: right;\n",
       "    }\n",
       "</style>\n",
       "<table border=\"1\" class=\"dataframe\">\n",
       "  <thead>\n",
       "    <tr style=\"text-align: right;\">\n",
       "      <th></th>\n",
       "      <th>ID</th>\n",
       "      <th>timestamp</th>\n",
       "      <th>latitude</th>\n",
       "      <th>longitude</th>\n",
       "      <th>temperature</th>\n",
       "      <th>humidity</th>\n",
       "    </tr>\n",
       "  </thead>\n",
       "  <tbody>\n",
       "    <tr>\n",
       "      <th>0</th>\n",
       "      <td>1</td>\n",
       "      <td>0.000044</td>\n",
       "      <td>0.061337</td>\n",
       "      <td>0.611418</td>\n",
       "      <td>0.571587</td>\n",
       "      <td>0.601534</td>\n",
       "    </tr>\n",
       "    <tr>\n",
       "      <th>1</th>\n",
       "      <td>2</td>\n",
       "      <td>0.000266</td>\n",
       "      <td>0.061337</td>\n",
       "      <td>0.611418</td>\n",
       "      <td>0.559410</td>\n",
       "      <td>0.592192</td>\n",
       "    </tr>\n",
       "    <tr>\n",
       "      <th>2</th>\n",
       "      <td>3</td>\n",
       "      <td>0.000489</td>\n",
       "      <td>0.061337</td>\n",
       "      <td>0.611418</td>\n",
       "      <td>0.559410</td>\n",
       "      <td>0.593765</td>\n",
       "    </tr>\n",
       "    <tr>\n",
       "      <th>3</th>\n",
       "      <td>4</td>\n",
       "      <td>0.000711</td>\n",
       "      <td>0.061337</td>\n",
       "      <td>0.611418</td>\n",
       "      <td>0.559410</td>\n",
       "      <td>0.595339</td>\n",
       "    </tr>\n",
       "    <tr>\n",
       "      <th>4</th>\n",
       "      <td>5</td>\n",
       "      <td>0.000955</td>\n",
       "      <td>0.061337</td>\n",
       "      <td>0.611418</td>\n",
       "      <td>0.559410</td>\n",
       "      <td>0.596814</td>\n",
       "    </tr>\n",
       "  </tbody>\n",
       "</table>\n",
       "</div>"
      ],
      "text/plain": [
       "   ID  timestamp  latitude  longitude  temperature  humidity\n",
       "0   1   0.000044  0.061337   0.611418     0.571587  0.601534\n",
       "1   2   0.000266  0.061337   0.611418     0.559410  0.592192\n",
       "2   3   0.000489  0.061337   0.611418     0.559410  0.593765\n",
       "3   4   0.000711  0.061337   0.611418     0.559410  0.595339\n",
       "4   5   0.000955  0.061337   0.611418     0.559410  0.596814"
      ]
     },
     "execution_count": 151,
     "metadata": {},
     "output_type": "execute_result"
    }
   ],
   "source": [
    "df_temperature.head()"
   ]
  },
  {
   "cell_type": "code",
   "execution_count": 152,
   "id": "128c1477",
   "metadata": {},
   "outputs": [
    {
     "data": {
      "text/plain": [
       "6583"
      ]
     },
     "execution_count": 152,
     "metadata": {},
     "output_type": "execute_result"
    }
   ],
   "source": [
    "df_temperature['humidity'].count()"
   ]
  },
  {
   "cell_type": "code",
   "execution_count": 165,
   "id": "44681438",
   "metadata": {},
   "outputs": [],
   "source": [
    "df_temperature.dropna(inplace=True)"
   ]
  },
  {
   "cell_type": "code",
   "execution_count": 166,
   "id": "3c7ec43f",
   "metadata": {},
   "outputs": [
    {
     "data": {
      "text/plain": [
       "ID             6345\n",
       "timestamp      6345\n",
       "latitude       6345\n",
       "longitude      6345\n",
       "temperature    6345\n",
       "humidity       6345\n",
       "dtype: int64"
      ]
     },
     "execution_count": 166,
     "metadata": {},
     "output_type": "execute_result"
    }
   ],
   "source": [
    "df_temperature.count()"
   ]
  },
  {
   "cell_type": "code",
   "execution_count": 167,
   "id": "b5ae755b",
   "metadata": {},
   "outputs": [],
   "source": [
    "df_temperature_test = df_copy[df_copy['temperature'].isna()]"
   ]
  },
  {
   "cell_type": "code",
   "execution_count": 168,
   "id": "218a3ca7",
   "metadata": {},
   "outputs": [
    {
     "data": {
      "text/html": [
       "<div>\n",
       "<style scoped>\n",
       "    .dataframe tbody tr th:only-of-type {\n",
       "        vertical-align: middle;\n",
       "    }\n",
       "\n",
       "    .dataframe tbody tr th {\n",
       "        vertical-align: top;\n",
       "    }\n",
       "\n",
       "    .dataframe thead th {\n",
       "        text-align: right;\n",
       "    }\n",
       "</style>\n",
       "<table border=\"1\" class=\"dataframe\">\n",
       "  <thead>\n",
       "    <tr style=\"text-align: right;\">\n",
       "      <th></th>\n",
       "      <th>ID</th>\n",
       "      <th>timestamp</th>\n",
       "      <th>latitude</th>\n",
       "      <th>longitude</th>\n",
       "      <th>temperature</th>\n",
       "      <th>humidity</th>\n",
       "    </tr>\n",
       "  </thead>\n",
       "  <tbody>\n",
       "    <tr>\n",
       "      <th>19</th>\n",
       "      <td>20</td>\n",
       "      <td>0.004375</td>\n",
       "      <td>0.061337</td>\n",
       "      <td>0.611418</td>\n",
       "      <td>NaN</td>\n",
       "      <td>0.616973</td>\n",
       "    </tr>\n",
       "    <tr>\n",
       "      <th>118</th>\n",
       "      <td>119</td>\n",
       "      <td>0.026937</td>\n",
       "      <td>0.061337</td>\n",
       "      <td>0.611418</td>\n",
       "      <td>NaN</td>\n",
       "      <td>0.607729</td>\n",
       "    </tr>\n",
       "    <tr>\n",
       "      <th>148</th>\n",
       "      <td>149</td>\n",
       "      <td>0.044281</td>\n",
       "      <td>0.061337</td>\n",
       "      <td>0.611418</td>\n",
       "      <td>NaN</td>\n",
       "      <td>0.652670</td>\n",
       "    </tr>\n",
       "    <tr>\n",
       "      <th>154</th>\n",
       "      <td>155</td>\n",
       "      <td>0.045657</td>\n",
       "      <td>0.061337</td>\n",
       "      <td>0.611418</td>\n",
       "      <td>NaN</td>\n",
       "      <td>0.649523</td>\n",
       "    </tr>\n",
       "    <tr>\n",
       "      <th>162</th>\n",
       "      <td>163</td>\n",
       "      <td>0.047478</td>\n",
       "      <td>0.061337</td>\n",
       "      <td>0.611418</td>\n",
       "      <td>NaN</td>\n",
       "      <td>0.652670</td>\n",
       "    </tr>\n",
       "  </tbody>\n",
       "</table>\n",
       "</div>"
      ],
      "text/plain": [
       "      ID  timestamp  latitude  longitude  temperature  humidity\n",
       "19    20   0.004375  0.061337   0.611418          NaN  0.616973\n",
       "118  119   0.026937  0.061337   0.611418          NaN  0.607729\n",
       "148  149   0.044281  0.061337   0.611418          NaN  0.652670\n",
       "154  155   0.045657  0.061337   0.611418          NaN  0.649523\n",
       "162  163   0.047478  0.061337   0.611418          NaN  0.652670"
      ]
     },
     "execution_count": 168,
     "metadata": {},
     "output_type": "execute_result"
    }
   ],
   "source": [
    "df_temperature_test.head()"
   ]
  },
  {
   "cell_type": "code",
   "execution_count": 169,
   "id": "fa4cc4e4",
   "metadata": {},
   "outputs": [
    {
     "data": {
      "text/plain": [
       "ID             238\n",
       "timestamp      238\n",
       "latitude       238\n",
       "longitude      238\n",
       "temperature      0\n",
       "humidity       238\n",
       "dtype: int64"
      ]
     },
     "execution_count": 169,
     "metadata": {},
     "output_type": "execute_result"
    }
   ],
   "source": [
    "df_temperature_test.count()"
   ]
  },
  {
   "cell_type": "code",
   "execution_count": 170,
   "id": "5d4c3b0b",
   "metadata": {},
   "outputs": [
    {
     "data": {
      "text/html": [
       "<div>\n",
       "<style scoped>\n",
       "    .dataframe tbody tr th:only-of-type {\n",
       "        vertical-align: middle;\n",
       "    }\n",
       "\n",
       "    .dataframe tbody tr th {\n",
       "        vertical-align: top;\n",
       "    }\n",
       "\n",
       "    .dataframe thead th {\n",
       "        text-align: right;\n",
       "    }\n",
       "</style>\n",
       "<table border=\"1\" class=\"dataframe\">\n",
       "  <thead>\n",
       "    <tr style=\"text-align: right;\">\n",
       "      <th></th>\n",
       "      <th>ID</th>\n",
       "      <th>timestamp</th>\n",
       "      <th>latitude</th>\n",
       "      <th>longitude</th>\n",
       "      <th>temperature</th>\n",
       "      <th>humidity</th>\n",
       "    </tr>\n",
       "  </thead>\n",
       "  <tbody>\n",
       "    <tr>\n",
       "      <th>0</th>\n",
       "      <td>1</td>\n",
       "      <td>0.000044</td>\n",
       "      <td>0.061337</td>\n",
       "      <td>0.611418</td>\n",
       "      <td>0.571587</td>\n",
       "      <td>0.601534</td>\n",
       "    </tr>\n",
       "    <tr>\n",
       "      <th>1</th>\n",
       "      <td>2</td>\n",
       "      <td>0.000266</td>\n",
       "      <td>0.061337</td>\n",
       "      <td>0.611418</td>\n",
       "      <td>0.559410</td>\n",
       "      <td>0.592192</td>\n",
       "    </tr>\n",
       "    <tr>\n",
       "      <th>2</th>\n",
       "      <td>3</td>\n",
       "      <td>0.000489</td>\n",
       "      <td>0.061337</td>\n",
       "      <td>0.611418</td>\n",
       "      <td>0.559410</td>\n",
       "      <td>0.593765</td>\n",
       "    </tr>\n",
       "    <tr>\n",
       "      <th>3</th>\n",
       "      <td>4</td>\n",
       "      <td>0.000711</td>\n",
       "      <td>0.061337</td>\n",
       "      <td>0.611418</td>\n",
       "      <td>0.559410</td>\n",
       "      <td>0.595339</td>\n",
       "    </tr>\n",
       "    <tr>\n",
       "      <th>4</th>\n",
       "      <td>5</td>\n",
       "      <td>0.000955</td>\n",
       "      <td>0.061337</td>\n",
       "      <td>0.611418</td>\n",
       "      <td>0.559410</td>\n",
       "      <td>0.596814</td>\n",
       "    </tr>\n",
       "  </tbody>\n",
       "</table>\n",
       "</div>"
      ],
      "text/plain": [
       "   ID  timestamp  latitude  longitude  temperature  humidity\n",
       "0   1   0.000044  0.061337   0.611418     0.571587  0.601534\n",
       "1   2   0.000266  0.061337   0.611418     0.559410  0.592192\n",
       "2   3   0.000489  0.061337   0.611418     0.559410  0.593765\n",
       "3   4   0.000711  0.061337   0.611418     0.559410  0.595339\n",
       "4   5   0.000955  0.061337   0.611418     0.559410  0.596814"
      ]
     },
     "execution_count": 170,
     "metadata": {},
     "output_type": "execute_result"
    }
   ],
   "source": [
    "# creatinf a df for temperature outpout\n",
    "df_humidity = df_copy.copy()\n",
    "df_humidity['temperature'].interpolate(inplace=True)\n",
    "df_humidity.head()"
   ]
  },
  {
   "cell_type": "code",
   "execution_count": 171,
   "id": "6a1c8e07",
   "metadata": {},
   "outputs": [
    {
     "data": {
      "text/plain": [
       "6583"
      ]
     },
     "execution_count": 171,
     "metadata": {},
     "output_type": "execute_result"
    }
   ],
   "source": [
    "df_humidity['temperature'].count()"
   ]
  },
  {
   "cell_type": "code",
   "execution_count": 172,
   "id": "3242cc69",
   "metadata": {},
   "outputs": [],
   "source": [
    "df_humidity.dropna(inplace=True)"
   ]
  },
  {
   "cell_type": "code",
   "execution_count": 173,
   "id": "107b0780",
   "metadata": {},
   "outputs": [
    {
     "data": {
      "text/plain": [
       "ID             6321\n",
       "timestamp      6321\n",
       "latitude       6321\n",
       "longitude      6321\n",
       "temperature    6321\n",
       "humidity       6321\n",
       "dtype: int64"
      ]
     },
     "execution_count": 173,
     "metadata": {},
     "output_type": "execute_result"
    }
   ],
   "source": [
    "df_humidity.count()"
   ]
  },
  {
   "cell_type": "code",
   "execution_count": 174,
   "id": "d81cccda",
   "metadata": {},
   "outputs": [],
   "source": [
    "df_humidity_test = df_copy[df_copy['humidity'].isna()]"
   ]
  },
  {
   "cell_type": "code",
   "execution_count": 176,
   "id": "1a3f4817",
   "metadata": {},
   "outputs": [
    {
     "data": {
      "text/html": [
       "<div>\n",
       "<style scoped>\n",
       "    .dataframe tbody tr th:only-of-type {\n",
       "        vertical-align: middle;\n",
       "    }\n",
       "\n",
       "    .dataframe tbody tr th {\n",
       "        vertical-align: top;\n",
       "    }\n",
       "\n",
       "    .dataframe thead th {\n",
       "        text-align: right;\n",
       "    }\n",
       "</style>\n",
       "<table border=\"1\" class=\"dataframe\">\n",
       "  <thead>\n",
       "    <tr style=\"text-align: right;\">\n",
       "      <th></th>\n",
       "      <th>ID</th>\n",
       "      <th>timestamp</th>\n",
       "      <th>latitude</th>\n",
       "      <th>longitude</th>\n",
       "      <th>temperature</th>\n",
       "      <th>humidity</th>\n",
       "    </tr>\n",
       "  </thead>\n",
       "  <tbody>\n",
       "    <tr>\n",
       "      <th>55</th>\n",
       "      <td>56</td>\n",
       "      <td>0.012569</td>\n",
       "      <td>0.061337</td>\n",
       "      <td>0.611418</td>\n",
       "      <td>0.523985</td>\n",
       "      <td>NaN</td>\n",
       "    </tr>\n",
       "    <tr>\n",
       "      <th>66</th>\n",
       "      <td>67</td>\n",
       "      <td>0.015079</td>\n",
       "      <td>0.061337</td>\n",
       "      <td>0.611418</td>\n",
       "      <td>0.511808</td>\n",
       "      <td>NaN</td>\n",
       "    </tr>\n",
       "    <tr>\n",
       "      <th>96</th>\n",
       "      <td>97</td>\n",
       "      <td>0.021918</td>\n",
       "      <td>0.061337</td>\n",
       "      <td>0.611418</td>\n",
       "      <td>0.488192</td>\n",
       "      <td>NaN</td>\n",
       "    </tr>\n",
       "    <tr>\n",
       "      <th>165</th>\n",
       "      <td>166</td>\n",
       "      <td>0.048167</td>\n",
       "      <td>0.061337</td>\n",
       "      <td>0.611418</td>\n",
       "      <td>0.523985</td>\n",
       "      <td>NaN</td>\n",
       "    </tr>\n",
       "    <tr>\n",
       "      <th>193</th>\n",
       "      <td>194</td>\n",
       "      <td>0.054540</td>\n",
       "      <td>0.061337</td>\n",
       "      <td>0.611418</td>\n",
       "      <td>0.500000</td>\n",
       "      <td>NaN</td>\n",
       "    </tr>\n",
       "  </tbody>\n",
       "</table>\n",
       "</div>"
      ],
      "text/plain": [
       "      ID  timestamp  latitude  longitude  temperature  humidity\n",
       "55    56   0.012569  0.061337   0.611418     0.523985       NaN\n",
       "66    67   0.015079  0.061337   0.611418     0.511808       NaN\n",
       "96    97   0.021918  0.061337   0.611418     0.488192       NaN\n",
       "165  166   0.048167  0.061337   0.611418     0.523985       NaN\n",
       "193  194   0.054540  0.061337   0.611418     0.500000       NaN"
      ]
     },
     "execution_count": 176,
     "metadata": {},
     "output_type": "execute_result"
    }
   ],
   "source": [
    "df_humidity_test.head()"
   ]
  },
  {
   "cell_type": "code",
   "execution_count": 177,
   "id": "3a32dd8a",
   "metadata": {},
   "outputs": [
    {
     "data": {
      "text/plain": [
       "ID             262\n",
       "timestamp      262\n",
       "latitude       262\n",
       "longitude      262\n",
       "temperature    262\n",
       "humidity         0\n",
       "dtype: int64"
      ]
     },
     "execution_count": 177,
     "metadata": {},
     "output_type": "execute_result"
    }
   ],
   "source": [
    "df_humidity_test.count()"
   ]
  },
  {
   "cell_type": "code",
   "execution_count": 189,
   "id": "711cfcce",
   "metadata": {},
   "outputs": [],
   "source": [
    "import scipy as sp\n",
    "from sklearn.preprocessing import PolynomialFeatures, StandardScaler\n"
   ]
  },
  {
   "cell_type": "code",
   "execution_count": 191,
   "id": "043655a7",
   "metadata": {},
   "outputs": [],
   "source": [
    "import pymc3 as pm"
   ]
  },
  {
   "cell_type": "code",
   "execution_count": 194,
   "id": "573c3284",
   "metadata": {},
   "outputs": [
    {
     "data": {
      "text/html": [
       "<div>\n",
       "<style scoped>\n",
       "    .dataframe tbody tr th:only-of-type {\n",
       "        vertical-align: middle;\n",
       "    }\n",
       "\n",
       "    .dataframe tbody tr th {\n",
       "        vertical-align: top;\n",
       "    }\n",
       "\n",
       "    .dataframe thead th {\n",
       "        text-align: right;\n",
       "    }\n",
       "</style>\n",
       "<table border=\"1\" class=\"dataframe\">\n",
       "  <thead>\n",
       "    <tr style=\"text-align: right;\">\n",
       "      <th></th>\n",
       "      <th>ID</th>\n",
       "      <th>timestamp</th>\n",
       "      <th>latitude</th>\n",
       "      <th>longitude</th>\n",
       "      <th>temperature</th>\n",
       "      <th>humidity</th>\n",
       "    </tr>\n",
       "  </thead>\n",
       "  <tbody>\n",
       "    <tr>\n",
       "      <th>0</th>\n",
       "      <td>1</td>\n",
       "      <td>0.000044</td>\n",
       "      <td>0.061337</td>\n",
       "      <td>0.611418</td>\n",
       "      <td>0.571587</td>\n",
       "      <td>0.601534</td>\n",
       "    </tr>\n",
       "    <tr>\n",
       "      <th>1</th>\n",
       "      <td>2</td>\n",
       "      <td>0.000266</td>\n",
       "      <td>0.061337</td>\n",
       "      <td>0.611418</td>\n",
       "      <td>0.559410</td>\n",
       "      <td>0.592192</td>\n",
       "    </tr>\n",
       "    <tr>\n",
       "      <th>2</th>\n",
       "      <td>3</td>\n",
       "      <td>0.000489</td>\n",
       "      <td>0.061337</td>\n",
       "      <td>0.611418</td>\n",
       "      <td>0.559410</td>\n",
       "      <td>0.593765</td>\n",
       "    </tr>\n",
       "    <tr>\n",
       "      <th>3</th>\n",
       "      <td>4</td>\n",
       "      <td>0.000711</td>\n",
       "      <td>0.061337</td>\n",
       "      <td>0.611418</td>\n",
       "      <td>0.559410</td>\n",
       "      <td>0.595339</td>\n",
       "    </tr>\n",
       "    <tr>\n",
       "      <th>4</th>\n",
       "      <td>5</td>\n",
       "      <td>0.000955</td>\n",
       "      <td>0.061337</td>\n",
       "      <td>0.611418</td>\n",
       "      <td>0.559410</td>\n",
       "      <td>0.596814</td>\n",
       "    </tr>\n",
       "  </tbody>\n",
       "</table>\n",
       "</div>"
      ],
      "text/plain": [
       "   ID  timestamp  latitude  longitude  temperature  humidity\n",
       "0   1   0.000044  0.061337   0.611418     0.571587  0.601534\n",
       "1   2   0.000266  0.061337   0.611418     0.559410  0.592192\n",
       "2   3   0.000489  0.061337   0.611418     0.559410  0.593765\n",
       "3   4   0.000711  0.061337   0.611418     0.559410  0.595339\n",
       "4   5   0.000955  0.061337   0.611418     0.559410  0.596814"
      ]
     },
     "execution_count": 194,
     "metadata": {},
     "output_type": "execute_result"
    }
   ],
   "source": [
    "df_temperature.head()"
   ]
  },
  {
   "cell_type": "code",
   "execution_count": 195,
   "id": "da34b874",
   "metadata": {},
   "outputs": [
    {
     "data": {
      "text/plain": [
       "ID             6345\n",
       "timestamp      6345\n",
       "latitude       6345\n",
       "longitude      6345\n",
       "temperature    6345\n",
       "humidity       6345\n",
       "dtype: int64"
      ]
     },
     "execution_count": 195,
     "metadata": {},
     "output_type": "execute_result"
    }
   ],
   "source": [
    "df_temperature.count()\n"
   ]
  },
  {
   "cell_type": "code",
   "execution_count": 181,
   "id": "fc25feee",
   "metadata": {},
   "outputs": [],
   "source": [
    "# training for the temperature data\n",
    "x_temperature = df_temperature.drop('temperature',axis=1)"
   ]
  },
  {
   "cell_type": "code",
   "execution_count": 182,
   "id": "0fc04873",
   "metadata": {},
   "outputs": [
    {
     "data": {
      "text/html": [
       "<div>\n",
       "<style scoped>\n",
       "    .dataframe tbody tr th:only-of-type {\n",
       "        vertical-align: middle;\n",
       "    }\n",
       "\n",
       "    .dataframe tbody tr th {\n",
       "        vertical-align: top;\n",
       "    }\n",
       "\n",
       "    .dataframe thead th {\n",
       "        text-align: right;\n",
       "    }\n",
       "</style>\n",
       "<table border=\"1\" class=\"dataframe\">\n",
       "  <thead>\n",
       "    <tr style=\"text-align: right;\">\n",
       "      <th></th>\n",
       "      <th>ID</th>\n",
       "      <th>timestamp</th>\n",
       "      <th>latitude</th>\n",
       "      <th>longitude</th>\n",
       "      <th>humidity</th>\n",
       "    </tr>\n",
       "  </thead>\n",
       "  <tbody>\n",
       "    <tr>\n",
       "      <th>0</th>\n",
       "      <td>1</td>\n",
       "      <td>0.000044</td>\n",
       "      <td>0.061337</td>\n",
       "      <td>0.611418</td>\n",
       "      <td>0.601534</td>\n",
       "    </tr>\n",
       "    <tr>\n",
       "      <th>1</th>\n",
       "      <td>2</td>\n",
       "      <td>0.000266</td>\n",
       "      <td>0.061337</td>\n",
       "      <td>0.611418</td>\n",
       "      <td>0.592192</td>\n",
       "    </tr>\n",
       "    <tr>\n",
       "      <th>2</th>\n",
       "      <td>3</td>\n",
       "      <td>0.000489</td>\n",
       "      <td>0.061337</td>\n",
       "      <td>0.611418</td>\n",
       "      <td>0.593765</td>\n",
       "    </tr>\n",
       "    <tr>\n",
       "      <th>3</th>\n",
       "      <td>4</td>\n",
       "      <td>0.000711</td>\n",
       "      <td>0.061337</td>\n",
       "      <td>0.611418</td>\n",
       "      <td>0.595339</td>\n",
       "    </tr>\n",
       "    <tr>\n",
       "      <th>4</th>\n",
       "      <td>5</td>\n",
       "      <td>0.000955</td>\n",
       "      <td>0.061337</td>\n",
       "      <td>0.611418</td>\n",
       "      <td>0.596814</td>\n",
       "    </tr>\n",
       "  </tbody>\n",
       "</table>\n",
       "</div>"
      ],
      "text/plain": [
       "   ID  timestamp  latitude  longitude  humidity\n",
       "0   1   0.000044  0.061337   0.611418  0.601534\n",
       "1   2   0.000266  0.061337   0.611418  0.592192\n",
       "2   3   0.000489  0.061337   0.611418  0.593765\n",
       "3   4   0.000711  0.061337   0.611418  0.595339\n",
       "4   5   0.000955  0.061337   0.611418  0.596814"
      ]
     },
     "execution_count": 182,
     "metadata": {},
     "output_type": "execute_result"
    }
   ],
   "source": [
    "x_temperature.head()"
   ]
  },
  {
   "cell_type": "code",
   "execution_count": 183,
   "id": "50480f4c",
   "metadata": {},
   "outputs": [],
   "source": [
    "y_temperature = df_temperature['temperature']"
   ]
  },
  {
   "cell_type": "code",
   "execution_count": 184,
   "id": "e4a3c04b",
   "metadata": {},
   "outputs": [
    {
     "data": {
      "text/plain": [
       "0    0.571587\n",
       "1    0.559410\n",
       "2    0.559410\n",
       "3    0.559410\n",
       "4    0.559410\n",
       "Name: temperature, dtype: float64"
      ]
     },
     "execution_count": 184,
     "metadata": {},
     "output_type": "execute_result"
    }
   ],
   "source": [
    "y_temperature.head()"
   ]
  },
  {
   "cell_type": "code",
   "execution_count": 185,
   "id": "9c16e40d",
   "metadata": {},
   "outputs": [
    {
     "data": {
      "text/plain": [
       "array([[1.00000000e+00, 4.44138482e-05, 6.13370835e-02, 6.11417991e-01,\n",
       "        6.01534074e-01],\n",
       "       [2.00000000e+00, 2.66483089e-04, 6.13370835e-02, 6.11417991e-01,\n",
       "        5.92191956e-01],\n",
       "       [3.00000000e+00, 4.88552331e-04, 6.13370835e-02, 6.11417991e-01,\n",
       "        5.93765365e-01],\n",
       "       ...,\n",
       "       [6.58100000e+03, 9.99378206e-01, 8.18909563e-01, 1.46458880e-01,\n",
       "        7.81296096e-01],\n",
       "       [6.58200000e+03, 9.99600275e-01, 8.18909563e-01, 1.46458880e-01,\n",
       "        7.75100797e-01],\n",
       "       [6.58300000e+03, 9.99822345e-01, 8.18909563e-01, 1.46458880e-01,\n",
       "        7.65857016e-01]])"
      ]
     },
     "execution_count": 185,
     "metadata": {},
     "output_type": "execute_result"
    }
   ],
   "source": [
    "x_temperature.to_numpy()"
   ]
  },
  {
   "cell_type": "code",
   "execution_count": 186,
   "id": "099ca423",
   "metadata": {},
   "outputs": [
    {
     "data": {
      "text/plain": [
       "(6345, 5)"
      ]
     },
     "execution_count": 186,
     "metadata": {},
     "output_type": "execute_result"
    }
   ],
   "source": [
    "np.shape(x_temperature)"
   ]
  },
  {
   "cell_type": "code",
   "execution_count": 187,
   "id": "c6aa877a",
   "metadata": {},
   "outputs": [
    {
     "data": {
      "text/plain": [
       "array([0.57158672, 0.55940959, 0.55940959, ..., 0.23800738, 0.23800738,\n",
       "       0.23800738])"
      ]
     },
     "execution_count": 187,
     "metadata": {},
     "output_type": "execute_result"
    }
   ],
   "source": [
    "y_temperature.to_numpy()"
   ]
  },
  {
   "cell_type": "code",
   "execution_count": 188,
   "id": "bfb11e6c",
   "metadata": {},
   "outputs": [
    {
     "data": {
      "text/plain": [
       "(6345,)"
      ]
     },
     "execution_count": 188,
     "metadata": {},
     "output_type": "execute_result"
    }
   ],
   "source": [
    "np.shape(y_temperature)"
   ]
  },
  {
   "cell_type": "code",
   "execution_count": 198,
   "id": "098483e2",
   "metadata": {},
   "outputs": [
    {
     "name": "stderr",
     "output_type": "stream",
     "text": [
      "The glm module is deprecated and will be removed in version 4.0\n",
      "We recommend to instead use Bambi https://bambinos.github.io/bambi/\n",
      "Auto-assigning NUTS sampler...\n",
      "Initializing NUTS using jitter+adapt_diag...\n",
      "/Users/inavin/opt/anaconda3/lib/python3.9/site-packages/theano/tensor/elemwise.py:826: RuntimeWarning: divide by zero encountered in log\n",
      "  variables = ufunc(*ufunc_args, **ufunc_kwargs)\n",
      "/Users/inavin/opt/anaconda3/lib/python3.9/site-packages/theano/tensor/elemwise.py:826: RuntimeWarning: invalid value encountered in multiply\n",
      "  variables = ufunc(*ufunc_args, **ufunc_kwargs)\n",
      "Multiprocess sampling (4 chains in 4 jobs)\n",
      "NUTS: [sd, humidity, longitude, latitude, timestamp, Intercept]\n",
      "WARNING (theano.configdefaults): g++ not detected ! Theano will be unable to execute optimized C-implementations (for both CPU and GPU) and will default to Python implementations. Performance will be severely degraded. To remove this warning, set Theano flags cxx to an empty string.\n",
      "WARNING (theano.tensor.blas): Using NumPy C-API based implementation for BLAS functions.\n",
      "WARNING (theano.configdefaults): g++ not detected ! Theano will be unable to execute optimized C-implementations (for both CPU and GPU) and will default to Python implementations. Performance will be severely degraded. To remove this warning, set Theano flags cxx to an empty string.\n",
      "WARNING (theano.tensor.blas): Using NumPy C-API based implementation for BLAS functions.\n",
      "WARNING (theano.configdefaults): g++ not detected ! Theano will be unable to execute optimized C-implementations (for both CPU and GPU) and will default to Python implementations. Performance will be severely degraded. To remove this warning, set Theano flags cxx to an empty string.\n",
      "WARNING (theano.tensor.blas): Using NumPy C-API based implementation for BLAS functions.\n",
      "WARNING (theano.configdefaults): g++ not detected ! Theano will be unable to execute optimized C-implementations (for both CPU and GPU) and will default to Python implementations. Performance will be severely degraded. To remove this warning, set Theano flags cxx to an empty string.\n",
      "WARNING (theano.tensor.blas): Using NumPy C-API based implementation for BLAS functions.\n"
     ]
    },
    {
     "data": {
      "text/html": [
       "\n",
       "<style>\n",
       "    /* Turns off some styling */\n",
       "    progress {\n",
       "        /* gets rid of default border in Firefox and Opera. */\n",
       "        border: none;\n",
       "        /* Needs to be in here for Safari polyfill so background images work as expected. */\n",
       "        background-size: auto;\n",
       "    }\n",
       "    progress:not([value]), progress:not([value])::-webkit-progress-bar {\n",
       "        background: repeating-linear-gradient(45deg, #7e7e7e, #7e7e7e 10px, #5c5c5c 10px, #5c5c5c 20px);\n",
       "    }\n",
       "    .progress-bar-interrupted, .progress-bar-interrupted::-webkit-progress-bar {\n",
       "        background: #F44336;\n",
       "    }\n",
       "</style>\n"
      ],
      "text/plain": [
       "<IPython.core.display.HTML object>"
      ]
     },
     "metadata": {},
     "output_type": "display_data"
    },
    {
     "data": {
      "text/html": [
       "\n",
       "    <div>\n",
       "      <progress value='800' class='' max='8000' style='width:300px; height:20px; vertical-align: middle;'></progress>\n",
       "      10.00% [800/8000 19:39&lt;2:56:52 Sampling 4 chains, 0 divergences]\n",
       "    </div>\n",
       "    "
      ],
      "text/plain": [
       "<IPython.core.display.HTML object>"
      ]
     },
     "metadata": {},
     "output_type": "display_data"
    },
    {
     "name": "stderr",
     "output_type": "stream",
     "text": [
      "/Users/inavin/opt/anaconda3/lib/python3.9/site-packages/theano/scalar/basic.py:3167: RuntimeWarning: overflow encountered in double_scalars\n",
      "  return x * x\n",
      "/Users/inavin/opt/anaconda3/lib/python3.9/site-packages/theano/tensor/elemwise.py:826: RuntimeWarning: overflow encountered in impl (vectorized)\n",
      "  variables = ufunc(*ufunc_args, **ufunc_kwargs)\n",
      "/Users/inavin/opt/anaconda3/lib/python3.9/site-packages/theano/scalar/basic.py:2893: RuntimeWarning: divide by zero encountered in log\n",
      "  return np.log(x)\n",
      "/Users/inavin/opt/anaconda3/lib/python3.9/site-packages/theano/tensor/elemwise.py:826: RuntimeWarning: divide by zero encountered in impl (vectorized)\n",
      "  variables = ufunc(*ufunc_args, **ufunc_kwargs)\n",
      "/Users/inavin/opt/anaconda3/lib/python3.9/site-packages/numpy/core/fromnumeric.py:86: RuntimeWarning: overflow encountered in reduce\n",
      "  return ufunc.reduce(obj, axis, dtype, out, **passkwargs)\n",
      "/Users/inavin/opt/anaconda3/lib/python3.9/site-packages/theano/scalar/basic.py:1955: RuntimeWarning: invalid value encountered in true_divide\n",
      "  return x / y\n",
      "/Users/inavin/opt/anaconda3/lib/python3.9/site-packages/theano/scalar/basic.py:3167: RuntimeWarning: overflow encountered in double_scalars\n",
      "  return x * x\n",
      "/Users/inavin/opt/anaconda3/lib/python3.9/site-packages/theano/tensor/elemwise.py:826: RuntimeWarning: overflow encountered in impl (vectorized)\n",
      "  variables = ufunc(*ufunc_args, **ufunc_kwargs)\n",
      "/Users/inavin/opt/anaconda3/lib/python3.9/site-packages/theano/scalar/basic.py:2893: RuntimeWarning: divide by zero encountered in log\n",
      "  return np.log(x)\n",
      "/Users/inavin/opt/anaconda3/lib/python3.9/site-packages/theano/tensor/elemwise.py:826: RuntimeWarning: divide by zero encountered in impl (vectorized)\n",
      "  variables = ufunc(*ufunc_args, **ufunc_kwargs)\n",
      "/Users/inavin/opt/anaconda3/lib/python3.9/site-packages/theano/tensor/elemwise.py:826: RuntimeWarning: overflow encountered in exp\n",
      "  variables = ufunc(*ufunc_args, **ufunc_kwargs)\n",
      "/Users/inavin/opt/anaconda3/lib/python3.9/site-packages/numpy/core/fromnumeric.py:86: RuntimeWarning: overflow encountered in reduce\n",
      "  return ufunc.reduce(obj, axis, dtype, out, **passkwargs)\n",
      "/Users/inavin/opt/anaconda3/lib/python3.9/site-packages/theano/scalar/basic.py:1955: RuntimeWarning: invalid value encountered in true_divide\n",
      "  return x / y\n",
      "/Users/inavin/opt/anaconda3/lib/python3.9/site-packages/numpy/core/fromnumeric.py:86: RuntimeWarning: overflow encountered in reduce\n",
      "  return ufunc.reduce(obj, axis, dtype, out, **passkwargs)\n"
     ]
    },
    {
     "ename": "ValueError",
     "evalue": "Not enough samples to build a trace.",
     "output_type": "error",
     "traceback": [
      "\u001b[0;31m---------------------------------------------------------------------------\u001b[0m",
      "\u001b[0;31mKeyboardInterrupt\u001b[0m                         Traceback (most recent call last)",
      "\u001b[0;32m~/opt/anaconda3/lib/python3.9/site-packages/pymc3/sampling.py\u001b[0m in \u001b[0;36m_mp_sample\u001b[0;34m(draws, tune, step, chains, cores, chain, random_seed, start, progressbar, trace, model, callback, discard_tuned_samples, mp_ctx, pickle_backend, **kwargs)\u001b[0m\n\u001b[1;32m   1495\u001b[0m             \u001b[0;32mwith\u001b[0m \u001b[0msampler\u001b[0m\u001b[0;34m:\u001b[0m\u001b[0;34m\u001b[0m\u001b[0;34m\u001b[0m\u001b[0m\n\u001b[0;32m-> 1496\u001b[0;31m                 \u001b[0;32mfor\u001b[0m \u001b[0mdraw\u001b[0m \u001b[0;32min\u001b[0m \u001b[0msampler\u001b[0m\u001b[0;34m:\u001b[0m\u001b[0;34m\u001b[0m\u001b[0;34m\u001b[0m\u001b[0m\n\u001b[0m\u001b[1;32m   1497\u001b[0m                     \u001b[0mtrace\u001b[0m \u001b[0;34m=\u001b[0m \u001b[0mtraces\u001b[0m\u001b[0;34m[\u001b[0m\u001b[0mdraw\u001b[0m\u001b[0;34m.\u001b[0m\u001b[0mchain\u001b[0m \u001b[0;34m-\u001b[0m \u001b[0mchain\u001b[0m\u001b[0;34m]\u001b[0m\u001b[0;34m\u001b[0m\u001b[0;34m\u001b[0m\u001b[0m\n",
      "\u001b[0;32m~/opt/anaconda3/lib/python3.9/site-packages/pymc3/parallel_sampling.py\u001b[0m in \u001b[0;36m__iter__\u001b[0;34m(self)\u001b[0m\n\u001b[1;32m    478\u001b[0m         \u001b[0;32mwhile\u001b[0m \u001b[0mself\u001b[0m\u001b[0;34m.\u001b[0m\u001b[0m_active\u001b[0m\u001b[0;34m:\u001b[0m\u001b[0;34m\u001b[0m\u001b[0;34m\u001b[0m\u001b[0m\n\u001b[0;32m--> 479\u001b[0;31m             \u001b[0mdraw\u001b[0m \u001b[0;34m=\u001b[0m \u001b[0mProcessAdapter\u001b[0m\u001b[0;34m.\u001b[0m\u001b[0mrecv_draw\u001b[0m\u001b[0;34m(\u001b[0m\u001b[0mself\u001b[0m\u001b[0;34m.\u001b[0m\u001b[0m_active\u001b[0m\u001b[0;34m)\u001b[0m\u001b[0;34m\u001b[0m\u001b[0;34m\u001b[0m\u001b[0m\n\u001b[0m\u001b[1;32m    480\u001b[0m             \u001b[0mproc\u001b[0m\u001b[0;34m,\u001b[0m \u001b[0mis_last\u001b[0m\u001b[0;34m,\u001b[0m \u001b[0mdraw\u001b[0m\u001b[0;34m,\u001b[0m \u001b[0mtuning\u001b[0m\u001b[0;34m,\u001b[0m \u001b[0mstats\u001b[0m\u001b[0;34m,\u001b[0m \u001b[0mwarns\u001b[0m \u001b[0;34m=\u001b[0m \u001b[0mdraw\u001b[0m\u001b[0;34m\u001b[0m\u001b[0;34m\u001b[0m\u001b[0m\n",
      "\u001b[0;32m~/opt/anaconda3/lib/python3.9/site-packages/pymc3/parallel_sampling.py\u001b[0m in \u001b[0;36mrecv_draw\u001b[0;34m(processes, timeout)\u001b[0m\n\u001b[1;32m    345\u001b[0m         \u001b[0mpipes\u001b[0m \u001b[0;34m=\u001b[0m \u001b[0;34m[\u001b[0m\u001b[0mproc\u001b[0m\u001b[0;34m.\u001b[0m\u001b[0m_msg_pipe\u001b[0m \u001b[0;32mfor\u001b[0m \u001b[0mproc\u001b[0m \u001b[0;32min\u001b[0m \u001b[0mprocesses\u001b[0m\u001b[0;34m]\u001b[0m\u001b[0;34m\u001b[0m\u001b[0;34m\u001b[0m\u001b[0m\n\u001b[0;32m--> 346\u001b[0;31m         \u001b[0mready\u001b[0m \u001b[0;34m=\u001b[0m \u001b[0mmultiprocessing\u001b[0m\u001b[0;34m.\u001b[0m\u001b[0mconnection\u001b[0m\u001b[0;34m.\u001b[0m\u001b[0mwait\u001b[0m\u001b[0;34m(\u001b[0m\u001b[0mpipes\u001b[0m\u001b[0;34m)\u001b[0m\u001b[0;34m\u001b[0m\u001b[0;34m\u001b[0m\u001b[0m\n\u001b[0m\u001b[1;32m    347\u001b[0m         \u001b[0;32mif\u001b[0m \u001b[0;32mnot\u001b[0m \u001b[0mready\u001b[0m\u001b[0;34m:\u001b[0m\u001b[0;34m\u001b[0m\u001b[0;34m\u001b[0m\u001b[0m\n",
      "\u001b[0;32m~/opt/anaconda3/lib/python3.9/multiprocessing/connection.py\u001b[0m in \u001b[0;36mwait\u001b[0;34m(object_list, timeout)\u001b[0m\n\u001b[1;32m    935\u001b[0m             \u001b[0;32mwhile\u001b[0m \u001b[0;32mTrue\u001b[0m\u001b[0;34m:\u001b[0m\u001b[0;34m\u001b[0m\u001b[0;34m\u001b[0m\u001b[0m\n\u001b[0;32m--> 936\u001b[0;31m                 \u001b[0mready\u001b[0m \u001b[0;34m=\u001b[0m \u001b[0mselector\u001b[0m\u001b[0;34m.\u001b[0m\u001b[0mselect\u001b[0m\u001b[0;34m(\u001b[0m\u001b[0mtimeout\u001b[0m\u001b[0;34m)\u001b[0m\u001b[0;34m\u001b[0m\u001b[0;34m\u001b[0m\u001b[0m\n\u001b[0m\u001b[1;32m    937\u001b[0m                 \u001b[0;32mif\u001b[0m \u001b[0mready\u001b[0m\u001b[0;34m:\u001b[0m\u001b[0;34m\u001b[0m\u001b[0;34m\u001b[0m\u001b[0m\n",
      "\u001b[0;32m~/opt/anaconda3/lib/python3.9/selectors.py\u001b[0m in \u001b[0;36mselect\u001b[0;34m(self, timeout)\u001b[0m\n\u001b[1;32m    415\u001b[0m         \u001b[0;32mtry\u001b[0m\u001b[0;34m:\u001b[0m\u001b[0;34m\u001b[0m\u001b[0;34m\u001b[0m\u001b[0m\n\u001b[0;32m--> 416\u001b[0;31m             \u001b[0mfd_event_list\u001b[0m \u001b[0;34m=\u001b[0m \u001b[0mself\u001b[0m\u001b[0;34m.\u001b[0m\u001b[0m_selector\u001b[0m\u001b[0;34m.\u001b[0m\u001b[0mpoll\u001b[0m\u001b[0;34m(\u001b[0m\u001b[0mtimeout\u001b[0m\u001b[0;34m)\u001b[0m\u001b[0;34m\u001b[0m\u001b[0;34m\u001b[0m\u001b[0m\n\u001b[0m\u001b[1;32m    417\u001b[0m         \u001b[0;32mexcept\u001b[0m \u001b[0mInterruptedError\u001b[0m\u001b[0;34m:\u001b[0m\u001b[0;34m\u001b[0m\u001b[0;34m\u001b[0m\u001b[0m\n",
      "\u001b[0;31mKeyboardInterrupt\u001b[0m: ",
      "\nDuring handling of the above exception, another exception occurred:\n",
      "\u001b[0;31mValueError\u001b[0m                                Traceback (most recent call last)",
      "\u001b[0;32m/var/folders/8d/ftv5hsns5r3gsjsltnwk_ysr0000gn/T/ipykernel_13597/300751279.py\u001b[0m in \u001b[0;36m<module>\u001b[0;34m\u001b[0m\n\u001b[1;32m      5\u001b[0m     \u001b[0mpm\u001b[0m\u001b[0;34m.\u001b[0m\u001b[0mGLM\u001b[0m\u001b[0;34m.\u001b[0m\u001b[0mfrom_formula\u001b[0m\u001b[0;34m(\u001b[0m\u001b[0mformula\u001b[0m\u001b[0;34m,\u001b[0m\u001b[0mdata\u001b[0m \u001b[0;34m=\u001b[0m \u001b[0mdf_temperature\u001b[0m\u001b[0;34m,\u001b[0m \u001b[0mfamily\u001b[0m \u001b[0;34m=\u001b[0m \u001b[0mfamily\u001b[0m\u001b[0;34m)\u001b[0m\u001b[0;34m\u001b[0m\u001b[0;34m\u001b[0m\u001b[0m\n\u001b[1;32m      6\u001b[0m \u001b[0;34m\u001b[0m\u001b[0m\n\u001b[0;32m----> 7\u001b[0;31m     \u001b[0mnormal_trace\u001b[0m \u001b[0;34m=\u001b[0m \u001b[0mpm\u001b[0m\u001b[0;34m.\u001b[0m\u001b[0msample\u001b[0m\u001b[0;34m(\u001b[0m\u001b[0mreturn_inferencedata\u001b[0m\u001b[0;34m=\u001b[0m \u001b[0;32mTrue\u001b[0m\u001b[0;34m)\u001b[0m\u001b[0;34m\u001b[0m\u001b[0;34m\u001b[0m\u001b[0m\n\u001b[0m",
      "\u001b[0;32m~/opt/anaconda3/lib/python3.9/site-packages/deprecat/classic.py\u001b[0m in \u001b[0;36mwrapper_function\u001b[0;34m(wrapped_, instance_, args_, kwargs_)\u001b[0m\n\u001b[1;32m    213\u001b[0m                         \u001b[0;32melse\u001b[0m\u001b[0;34m:\u001b[0m\u001b[0;34m\u001b[0m\u001b[0;34m\u001b[0m\u001b[0m\n\u001b[1;32m    214\u001b[0m                             \u001b[0mwarnings\u001b[0m\u001b[0;34m.\u001b[0m\u001b[0mwarn\u001b[0m\u001b[0;34m(\u001b[0m\u001b[0mmessage\u001b[0m\u001b[0;34m,\u001b[0m \u001b[0mcategory\u001b[0m\u001b[0;34m=\u001b[0m\u001b[0mcategory\u001b[0m\u001b[0;34m,\u001b[0m \u001b[0mstacklevel\u001b[0m\u001b[0;34m=\u001b[0m\u001b[0m_routine_stacklevel\u001b[0m\u001b[0;34m)\u001b[0m\u001b[0;34m\u001b[0m\u001b[0;34m\u001b[0m\u001b[0m\n\u001b[0;32m--> 215\u001b[0;31m                 \u001b[0;32mreturn\u001b[0m \u001b[0mwrapped_\u001b[0m\u001b[0;34m(\u001b[0m\u001b[0;34m*\u001b[0m\u001b[0margs_\u001b[0m\u001b[0;34m,\u001b[0m \u001b[0;34m**\u001b[0m\u001b[0mkwargs_\u001b[0m\u001b[0;34m)\u001b[0m\u001b[0;34m\u001b[0m\u001b[0;34m\u001b[0m\u001b[0m\n\u001b[0m\u001b[1;32m    216\u001b[0m \u001b[0;34m\u001b[0m\u001b[0m\n\u001b[1;32m    217\u001b[0m             \u001b[0;32mreturn\u001b[0m \u001b[0mwrapper_function\u001b[0m\u001b[0;34m(\u001b[0m\u001b[0mwrapped\u001b[0m\u001b[0;34m)\u001b[0m\u001b[0;34m\u001b[0m\u001b[0;34m\u001b[0m\u001b[0m\n",
      "\u001b[0;32m~/opt/anaconda3/lib/python3.9/site-packages/pymc3/sampling.py\u001b[0m in \u001b[0;36msample\u001b[0;34m(draws, step, init, n_init, initvals, trace, chain_idx, chains, cores, tune, progressbar, model, random_seed, discard_tuned_samples, compute_convergence_checks, callback, jitter_max_retries, start, return_inferencedata, idata_kwargs, mp_ctx, pickle_backend, **kwargs)\u001b[0m\n\u001b[1;32m    573\u001b[0m         \u001b[0m_print_step_hierarchy\u001b[0m\u001b[0;34m(\u001b[0m\u001b[0mstep\u001b[0m\u001b[0;34m)\u001b[0m\u001b[0;34m\u001b[0m\u001b[0;34m\u001b[0m\u001b[0m\n\u001b[1;32m    574\u001b[0m         \u001b[0;32mtry\u001b[0m\u001b[0;34m:\u001b[0m\u001b[0;34m\u001b[0m\u001b[0;34m\u001b[0m\u001b[0m\n\u001b[0;32m--> 575\u001b[0;31m             \u001b[0mtrace\u001b[0m \u001b[0;34m=\u001b[0m \u001b[0m_mp_sample\u001b[0m\u001b[0;34m(\u001b[0m\u001b[0;34m**\u001b[0m\u001b[0msample_args\u001b[0m\u001b[0;34m,\u001b[0m \u001b[0;34m**\u001b[0m\u001b[0mparallel_args\u001b[0m\u001b[0;34m)\u001b[0m\u001b[0;34m\u001b[0m\u001b[0;34m\u001b[0m\u001b[0m\n\u001b[0m\u001b[1;32m    576\u001b[0m         \u001b[0;32mexcept\u001b[0m \u001b[0mpickle\u001b[0m\u001b[0;34m.\u001b[0m\u001b[0mPickleError\u001b[0m\u001b[0;34m:\u001b[0m\u001b[0;34m\u001b[0m\u001b[0;34m\u001b[0m\u001b[0m\n\u001b[1;32m    577\u001b[0m             \u001b[0m_log\u001b[0m\u001b[0;34m.\u001b[0m\u001b[0mwarning\u001b[0m\u001b[0;34m(\u001b[0m\u001b[0;34m\"Could not pickle model, sampling singlethreaded.\"\u001b[0m\u001b[0;34m)\u001b[0m\u001b[0;34m\u001b[0m\u001b[0;34m\u001b[0m\u001b[0m\n",
      "\u001b[0;32m~/opt/anaconda3/lib/python3.9/site-packages/pymc3/sampling.py\u001b[0m in \u001b[0;36m_mp_sample\u001b[0;34m(draws, tune, step, chains, cores, chain, random_seed, start, progressbar, trace, model, callback, discard_tuned_samples, mp_ctx, pickle_backend, **kwargs)\u001b[0m\n\u001b[1;32m   1520\u001b[0m     \u001b[0;32mexcept\u001b[0m \u001b[0mKeyboardInterrupt\u001b[0m\u001b[0;34m:\u001b[0m\u001b[0;34m\u001b[0m\u001b[0;34m\u001b[0m\u001b[0m\n\u001b[1;32m   1521\u001b[0m         \u001b[0;32mif\u001b[0m \u001b[0mdiscard_tuned_samples\u001b[0m\u001b[0;34m:\u001b[0m\u001b[0;34m\u001b[0m\u001b[0;34m\u001b[0m\u001b[0m\n\u001b[0;32m-> 1522\u001b[0;31m             \u001b[0mtraces\u001b[0m\u001b[0;34m,\u001b[0m \u001b[0mlength\u001b[0m \u001b[0;34m=\u001b[0m \u001b[0m_choose_chains\u001b[0m\u001b[0;34m(\u001b[0m\u001b[0mtraces\u001b[0m\u001b[0;34m,\u001b[0m \u001b[0mtune\u001b[0m\u001b[0;34m)\u001b[0m\u001b[0;34m\u001b[0m\u001b[0;34m\u001b[0m\u001b[0m\n\u001b[0m\u001b[1;32m   1523\u001b[0m         \u001b[0;32melse\u001b[0m\u001b[0;34m:\u001b[0m\u001b[0;34m\u001b[0m\u001b[0;34m\u001b[0m\u001b[0m\n\u001b[1;32m   1524\u001b[0m             \u001b[0mtraces\u001b[0m\u001b[0;34m,\u001b[0m \u001b[0mlength\u001b[0m \u001b[0;34m=\u001b[0m \u001b[0m_choose_chains\u001b[0m\u001b[0;34m(\u001b[0m\u001b[0mtraces\u001b[0m\u001b[0;34m,\u001b[0m \u001b[0;36m0\u001b[0m\u001b[0;34m)\u001b[0m\u001b[0;34m\u001b[0m\u001b[0;34m\u001b[0m\u001b[0m\n",
      "\u001b[0;32m~/opt/anaconda3/lib/python3.9/site-packages/pymc3/sampling.py\u001b[0m in \u001b[0;36m_choose_chains\u001b[0;34m(traces, tune)\u001b[0m\n\u001b[1;32m   1546\u001b[0m     \u001b[0mlengths\u001b[0m \u001b[0;34m=\u001b[0m \u001b[0;34m[\u001b[0m\u001b[0mmax\u001b[0m\u001b[0;34m(\u001b[0m\u001b[0;36m0\u001b[0m\u001b[0;34m,\u001b[0m \u001b[0mlen\u001b[0m\u001b[0;34m(\u001b[0m\u001b[0mtrace\u001b[0m\u001b[0;34m)\u001b[0m \u001b[0;34m-\u001b[0m \u001b[0mtune\u001b[0m\u001b[0;34m)\u001b[0m \u001b[0;32mfor\u001b[0m \u001b[0mtrace\u001b[0m \u001b[0;32min\u001b[0m \u001b[0mtraces\u001b[0m\u001b[0;34m]\u001b[0m\u001b[0;34m\u001b[0m\u001b[0;34m\u001b[0m\u001b[0m\n\u001b[1;32m   1547\u001b[0m     \u001b[0;32mif\u001b[0m \u001b[0;32mnot\u001b[0m \u001b[0msum\u001b[0m\u001b[0;34m(\u001b[0m\u001b[0mlengths\u001b[0m\u001b[0;34m)\u001b[0m\u001b[0;34m:\u001b[0m\u001b[0;34m\u001b[0m\u001b[0;34m\u001b[0m\u001b[0m\n\u001b[0;32m-> 1548\u001b[0;31m         \u001b[0;32mraise\u001b[0m \u001b[0mValueError\u001b[0m\u001b[0;34m(\u001b[0m\u001b[0;34m\"Not enough samples to build a trace.\"\u001b[0m\u001b[0;34m)\u001b[0m\u001b[0;34m\u001b[0m\u001b[0;34m\u001b[0m\u001b[0m\n\u001b[0m\u001b[1;32m   1549\u001b[0m \u001b[0;34m\u001b[0m\u001b[0m\n\u001b[1;32m   1550\u001b[0m     \u001b[0midxs\u001b[0m \u001b[0;34m=\u001b[0m \u001b[0mnp\u001b[0m\u001b[0;34m.\u001b[0m\u001b[0margsort\u001b[0m\u001b[0;34m(\u001b[0m\u001b[0mlengths\u001b[0m\u001b[0;34m)\u001b[0m\u001b[0;34m\u001b[0m\u001b[0;34m\u001b[0m\u001b[0m\n",
      "\u001b[0;31mValueError\u001b[0m: Not enough samples to build a trace."
     ]
    }
   ],
   "source": [
    "formula = 'temperature ~ timestamp + latitude + longitude + humidity'\n",
    "\n",
    "with pm.Model() as normal_model:\n",
    "    family = pm.glm.families.Normal()\n",
    "    pm.GLM.from_formula(formula,data = df_temperature, family = family)\n",
    "    \n",
    "    normal_trace = pm.sample(return_inferencedata= True)"
   ]
  },
  {
   "cell_type": "code",
   "execution_count": null,
   "id": "c23aa943",
   "metadata": {},
   "outputs": [],
   "source": []
  }
 ],
 "metadata": {
  "kernelspec": {
   "display_name": "Python 3 (ipykernel)",
   "language": "python",
   "name": "python3"
  },
  "language_info": {
   "codemirror_mode": {
    "name": "ipython",
    "version": 3
   },
   "file_extension": ".py",
   "mimetype": "text/x-python",
   "name": "python",
   "nbconvert_exporter": "python",
   "pygments_lexer": "ipython3",
   "version": "3.9.13"
  }
 },
 "nbformat": 4,
 "nbformat_minor": 5
}
