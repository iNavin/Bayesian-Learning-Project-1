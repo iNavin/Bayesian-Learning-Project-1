{
 "cells": [
  {
   "cell_type": "code",
   "execution_count": 1,
   "id": "4b89b6e4",
   "metadata": {},
   "outputs": [],
   "source": [
    "import pandas as pd\n",
    "import numpy as np\n",
    "from sklearn.model_selection import train_test_split\n",
    "from sklearn.gaussian_process import GaussianProcessRegressor\n",
    "from sklearn.gaussian_process.kernels import RBF, WhiteKernel, ConstantKernel\n"
   ]
  },
  {
   "cell_type": "code",
   "execution_count": 2,
   "id": "49c9fd8e",
   "metadata": {},
   "outputs": [],
   "source": [
    "# Load data\n",
    "data = pd.read_csv('sensor_data.csv')"
   ]
  },
  {
   "cell_type": "code",
   "execution_count": 3,
   "id": "0352c3e2",
   "metadata": {},
   "outputs": [
    {
     "data": {
      "text/plain": [
       "ID             6583\n",
       "timestamp      6583\n",
       "latitude       6583\n",
       "longitude      6583\n",
       "temperature    6345\n",
       "humidity       6321\n",
       "dtype: int64"
      ]
     },
     "execution_count": 3,
     "metadata": {},
     "output_type": "execute_result"
    }
   ],
   "source": [
    "data.count()"
   ]
  },
  {
   "cell_type": "code",
   "execution_count": 4,
   "id": "93e78d12",
   "metadata": {},
   "outputs": [],
   "source": [
    "#preparing data for temperature mode\n",
    "temp_data = data.copy()\n",
    "temp_data.dropna(subset=['temperature'],inplace = True)"
   ]
  },
  {
   "cell_type": "code",
   "execution_count": 5,
   "id": "52ff29b7",
   "metadata": {},
   "outputs": [],
   "source": [
    "temp_data.interpolate(inplace=True)"
   ]
  },
  {
   "cell_type": "code",
   "execution_count": 6,
   "id": "23527af3",
   "metadata": {},
   "outputs": [
    {
     "data": {
      "text/plain": [
       "ID             6345\n",
       "timestamp      6345\n",
       "latitude       6345\n",
       "longitude      6345\n",
       "temperature    6345\n",
       "humidity       6345\n",
       "dtype: int64"
      ]
     },
     "execution_count": 6,
     "metadata": {},
     "output_type": "execute_result"
    }
   ],
   "source": [
    "temp_data.count()"
   ]
  },
  {
   "cell_type": "code",
   "execution_count": 7,
   "id": "d89f0583",
   "metadata": {},
   "outputs": [],
   "source": [
    "data_X_temp = temp_data[['latitude', 'longitude', 'humidity', 'timestamp']]\n",
    "data_y_temp = temp_data['temperature']"
   ]
  },
  {
   "cell_type": "code",
   "execution_count": 8,
   "id": "cb92d0bb",
   "metadata": {},
   "outputs": [
    {
     "data": {
      "text/plain": [
       "latitude     6345\n",
       "longitude    6345\n",
       "humidity     6345\n",
       "timestamp    6345\n",
       "dtype: int64"
      ]
     },
     "execution_count": 8,
     "metadata": {},
     "output_type": "execute_result"
    }
   ],
   "source": [
    "data_X_temp.count()"
   ]
  },
  {
   "cell_type": "code",
   "execution_count": 10,
   "id": "801cec0d",
   "metadata": {},
   "outputs": [],
   "source": [
    "# Define kernel functions\n",
    "kernel_temp = ConstantKernel(1.0) * RBF(length_scale=1.0) + WhiteKernel(noise_level=1.0)\n"
   ]
  },
  {
   "cell_type": "code",
   "execution_count": 11,
   "id": "3d509dd3",
   "metadata": {},
   "outputs": [
    {
     "name": "stderr",
     "output_type": "stream",
     "text": [
      "/Users/inavin/opt/anaconda3/lib/python3.9/site-packages/sklearn/gaussian_process/kernels.py:430: ConvergenceWarning: The optimal value found for dimension 0 of parameter k1__k1__constant_value is close to the specified upper bound 100000.0. Increasing the bound and calling fit again may find a better value.\n",
      "  warnings.warn(\n"
     ]
    },
    {
     "data": {
      "text/plain": [
       "GaussianProcessRegressor(kernel=1**2 * RBF(length_scale=1) + WhiteKernel(noise_level=1))"
      ]
     },
     "execution_count": 11,
     "metadata": {},
     "output_type": "execute_result"
    }
   ],
   "source": [
    "model_temp = GaussianProcessRegressor(kernel=kernel_temp)\n",
    "model_temp.fit(data_X_temp, data_y_temp)"
   ]
  },
  {
   "cell_type": "code",
   "execution_count": 12,
   "id": "4a083b59",
   "metadata": {},
   "outputs": [],
   "source": [
    "#preparing data for humidity mode\n",
    "humid_data = data.copy()\n",
    "humid_data.dropna(subset=['humidity'],inplace = True)"
   ]
  },
  {
   "cell_type": "code",
   "execution_count": 13,
   "id": "ae0d0b42",
   "metadata": {},
   "outputs": [
    {
     "name": "stdout",
     "output_type": "stream",
     "text": [
      "1.781\n"
     ]
    }
   ],
   "source": [
    "humid_min = humid_data.loc[humid_data['humidity']>0,'humidity'].min()\n",
    "print(humid_min)\n",
    "humid_data.loc[humid_data['humidity']<0,'humidity'] = humid_min"
   ]
  },
  {
   "cell_type": "code",
   "execution_count": 14,
   "id": "42f1180c",
   "metadata": {},
   "outputs": [],
   "source": [
    "humid_data.interpolate(inplace=True)"
   ]
  },
  {
   "cell_type": "code",
   "execution_count": 15,
   "id": "f12d1fef",
   "metadata": {},
   "outputs": [
    {
     "data": {
      "text/plain": [
       "ID             6321\n",
       "timestamp      6321\n",
       "latitude       6321\n",
       "longitude      6321\n",
       "temperature    6321\n",
       "humidity       6321\n",
       "dtype: int64"
      ]
     },
     "execution_count": 15,
     "metadata": {},
     "output_type": "execute_result"
    }
   ],
   "source": [
    "humid_data.count()"
   ]
  },
  {
   "cell_type": "code",
   "execution_count": 18,
   "id": "3fcdb722",
   "metadata": {},
   "outputs": [],
   "source": [
    "data_x_humid = humid_data[['latitude', 'longitude', 'temperature', 'timestamp']]\n",
    "data_y_humid = humid_data['humidity']"
   ]
  },
  {
   "cell_type": "code",
   "execution_count": 19,
   "id": "f6a959d1",
   "metadata": {},
   "outputs": [],
   "source": [
    "# Define kernel functions\n",
    "kernel_humid = ConstantKernel(1.0) * RBF(length_scale=1.0) + WhiteKernel(noise_level=1.0)\n",
    "\n",
    "#kernel_humid = RBF(length_scale=1.0, length_scale_bounds=(1e-2, 1e5)) + WhiteKernel(noise_level=1.0, noise_level_bounds=(1e-10, 1e+1))\n",
    "\n"
   ]
  },
  {
   "cell_type": "code",
   "execution_count": 20,
   "id": "d17a6171",
   "metadata": {},
   "outputs": [
    {
     "data": {
      "text/plain": [
       "GaussianProcessRegressor(kernel=1**2 * RBF(length_scale=1) + WhiteKernel(noise_level=1))"
      ]
     },
     "execution_count": 20,
     "metadata": {},
     "output_type": "execute_result"
    }
   ],
   "source": [
    "model_humid = GaussianProcessRegressor(kernel=kernel_humid)\n",
    "model_humid.fit(data_x_humid, data_y_humid)"
   ]
  },
  {
   "cell_type": "code",
   "execution_count": 21,
   "id": "40e54061",
   "metadata": {},
   "outputs": [],
   "source": [
    "# final prediction for submission\n",
    "pred_data = data.copy()\n",
    "pred_data = pred_data[pred_data['temperature'].isna() | pred_data['humidity'].isna()]"
   ]
  },
  {
   "cell_type": "code",
   "execution_count": 22,
   "id": "3188ee1e",
   "metadata": {},
   "outputs": [
    {
     "data": {
      "text/plain": [
       "ID             500\n",
       "timestamp      500\n",
       "latitude       500\n",
       "longitude      500\n",
       "temperature    262\n",
       "humidity       238\n",
       "dtype: int64"
      ]
     },
     "execution_count": 22,
     "metadata": {},
     "output_type": "execute_result"
    }
   ],
   "source": [
    "pred_data.count()"
   ]
  },
  {
   "cell_type": "code",
   "execution_count": 23,
   "id": "527f33a2",
   "metadata": {},
   "outputs": [],
   "source": [
    "pred_temp = pred_data[pred_data['temperature'].isna()]"
   ]
  },
  {
   "cell_type": "code",
   "execution_count": 24,
   "id": "ae4eee2f",
   "metadata": {},
   "outputs": [
    {
     "data": {
      "text/plain": [
       "ID             238\n",
       "timestamp      238\n",
       "latitude       238\n",
       "longitude      238\n",
       "temperature      0\n",
       "humidity       238\n",
       "dtype: int64"
      ]
     },
     "execution_count": 24,
     "metadata": {},
     "output_type": "execute_result"
    }
   ],
   "source": [
    "pred_temp.count()"
   ]
  },
  {
   "cell_type": "code",
   "execution_count": 25,
   "id": "f07d09ea",
   "metadata": {},
   "outputs": [],
   "source": [
    "pred_humid = pred_data[pred_data['humidity'].isna()]"
   ]
  },
  {
   "cell_type": "code",
   "execution_count": 26,
   "id": "e330dc06",
   "metadata": {},
   "outputs": [
    {
     "data": {
      "text/plain": [
       "ID             262\n",
       "timestamp      262\n",
       "latitude       262\n",
       "longitude      262\n",
       "temperature    262\n",
       "humidity         0\n",
       "dtype: int64"
      ]
     },
     "execution_count": 26,
     "metadata": {},
     "output_type": "execute_result"
    }
   ],
   "source": [
    "pred_humid.count()"
   ]
  },
  {
   "cell_type": "code",
   "execution_count": 27,
   "id": "4149099d",
   "metadata": {},
   "outputs": [
    {
     "name": "stderr",
     "output_type": "stream",
     "text": [
      "/var/folders/8d/ftv5hsns5r3gsjsltnwk_ysr0000gn/T/ipykernel_4793/2738498298.py:1: SettingWithCopyWarning: \n",
      "A value is trying to be set on a copy of a slice from a DataFrame\n",
      "\n",
      "See the caveats in the documentation: https://pandas.pydata.org/pandas-docs/stable/user_guide/indexing.html#returning-a-view-versus-a-copy\n",
      "  pred_temp.drop(['temperature'], axis=1,inplace=True)\n",
      "/var/folders/8d/ftv5hsns5r3gsjsltnwk_ysr0000gn/T/ipykernel_4793/2738498298.py:2: SettingWithCopyWarning: \n",
      "A value is trying to be set on a copy of a slice from a DataFrame\n",
      "\n",
      "See the caveats in the documentation: https://pandas.pydata.org/pandas-docs/stable/user_guide/indexing.html#returning-a-view-versus-a-copy\n",
      "  pred_humid.drop(['humidity'], axis=1,inplace=True)\n"
     ]
    }
   ],
   "source": [
    "pred_temp.drop(['temperature'], axis=1,inplace=True)\n",
    "pred_humid.drop(['humidity'], axis=1,inplace=True)"
   ]
  },
  {
   "cell_type": "code",
   "execution_count": 28,
   "id": "fd7536e2",
   "metadata": {},
   "outputs": [
    {
     "data": {
      "text/plain": [
       "ID           238\n",
       "timestamp    238\n",
       "latitude     238\n",
       "longitude    238\n",
       "humidity     238\n",
       "dtype: int64"
      ]
     },
     "execution_count": 28,
     "metadata": {},
     "output_type": "execute_result"
    }
   ],
   "source": [
    "pred_temp.count()"
   ]
  },
  {
   "cell_type": "code",
   "execution_count": 29,
   "id": "780c69e8",
   "metadata": {},
   "outputs": [
    {
     "data": {
      "text/plain": [
       "ID             262\n",
       "timestamp      262\n",
       "latitude       262\n",
       "longitude      262\n",
       "temperature    262\n",
       "dtype: int64"
      ]
     },
     "execution_count": 29,
     "metadata": {},
     "output_type": "execute_result"
    }
   ],
   "source": [
    "pred_humid.count()"
   ]
  },
  {
   "cell_type": "code",
   "execution_count": 30,
   "id": "4abe065e",
   "metadata": {},
   "outputs": [
    {
     "name": "stderr",
     "output_type": "stream",
     "text": [
      "/var/folders/8d/ftv5hsns5r3gsjsltnwk_ysr0000gn/T/ipykernel_4793/749807790.py:1: SettingWithCopyWarning: \n",
      "A value is trying to be set on a copy of a slice from a DataFrame.\n",
      "Try using .loc[row_indexer,col_indexer] = value instead\n",
      "\n",
      "See the caveats in the documentation: https://pandas.pydata.org/pandas-docs/stable/user_guide/indexing.html#returning-a-view-versus-a-copy\n",
      "  pred_temp['prediction'] = model_temp.predict(pred_temp[['latitude', 'longitude', 'humidity', 'timestamp']])\n"
     ]
    }
   ],
   "source": [
    "pred_temp['prediction'] = model_temp.predict(pred_temp[['latitude', 'longitude', 'humidity', 'timestamp']])\n"
   ]
  },
  {
   "cell_type": "code",
   "execution_count": 31,
   "id": "aa91ad4e",
   "metadata": {},
   "outputs": [
    {
     "data": {
      "text/plain": [
       "ID            238\n",
       "timestamp     238\n",
       "latitude      238\n",
       "longitude     238\n",
       "humidity      238\n",
       "prediction    238\n",
       "dtype: int64"
      ]
     },
     "execution_count": 31,
     "metadata": {},
     "output_type": "execute_result"
    }
   ],
   "source": [
    "pred_temp.count()\n"
   ]
  },
  {
   "cell_type": "code",
   "execution_count": 32,
   "id": "4a314a26",
   "metadata": {},
   "outputs": [
    {
     "name": "stderr",
     "output_type": "stream",
     "text": [
      "/Users/inavin/opt/anaconda3/lib/python3.9/site-packages/sklearn/base.py:493: FutureWarning: The feature names should match those that were passed during fit. Starting version 1.2, an error will be raised.\n",
      "Feature names unseen at fit time:\n",
      "- temperature\n",
      "Feature names seen at fit time, yet now missing:\n",
      "- humidity\n",
      "\n",
      "  warnings.warn(message, FutureWarning)\n",
      "/var/folders/8d/ftv5hsns5r3gsjsltnwk_ysr0000gn/T/ipykernel_4793/3721073090.py:1: SettingWithCopyWarning: \n",
      "A value is trying to be set on a copy of a slice from a DataFrame.\n",
      "Try using .loc[row_indexer,col_indexer] = value instead\n",
      "\n",
      "See the caveats in the documentation: https://pandas.pydata.org/pandas-docs/stable/user_guide/indexing.html#returning-a-view-versus-a-copy\n",
      "  pred_humid['prediction'] = model_temp.predict(pred_humid[['latitude', 'longitude', 'temperature', 'timestamp']])\n"
     ]
    }
   ],
   "source": [
    "pred_humid['prediction'] = model_temp.predict(pred_humid[['latitude', 'longitude', 'temperature', 'timestamp']])\n",
    "\n"
   ]
  },
  {
   "cell_type": "code",
   "execution_count": 33,
   "id": "037b71cd",
   "metadata": {},
   "outputs": [
    {
     "data": {
      "text/plain": [
       "ID             262\n",
       "timestamp      262\n",
       "latitude       262\n",
       "longitude      262\n",
       "temperature    262\n",
       "prediction     262\n",
       "dtype: int64"
      ]
     },
     "execution_count": 33,
     "metadata": {},
     "output_type": "execute_result"
    }
   ],
   "source": [
    "pred_humid.count()"
   ]
  },
  {
   "cell_type": "code",
   "execution_count": 35,
   "id": "d84a5628",
   "metadata": {},
   "outputs": [],
   "source": [
    "submission_df = pd.concat([pred_temp[['ID','prediction']],pred_humid[['ID','prediction']]],axis=0).sort_values('ID')"
   ]
  },
  {
   "cell_type": "code",
   "execution_count": 36,
   "id": "cc66656c",
   "metadata": {},
   "outputs": [
    {
     "data": {
      "text/plain": [
       "ID            500\n",
       "prediction    500\n",
       "dtype: int64"
      ]
     },
     "execution_count": 36,
     "metadata": {},
     "output_type": "execute_result"
    }
   ],
   "source": [
    "submission_df.count()"
   ]
  },
  {
   "cell_type": "code",
   "execution_count": 37,
   "id": "95676cb9",
   "metadata": {},
   "outputs": [],
   "source": [
    "submission_df.to_csv('submission_file.csv',index=False)"
   ]
  }
 ],
 "metadata": {
  "kernelspec": {
   "display_name": "Python 3 (ipykernel)",
   "language": "python",
   "name": "python3"
  },
  "language_info": {
   "codemirror_mode": {
    "name": "ipython",
    "version": 3
   },
   "file_extension": ".py",
   "mimetype": "text/x-python",
   "name": "python",
   "nbconvert_exporter": "python",
   "pygments_lexer": "ipython3",
   "version": "3.9.13"
  }
 },
 "nbformat": 4,
 "nbformat_minor": 5
}
